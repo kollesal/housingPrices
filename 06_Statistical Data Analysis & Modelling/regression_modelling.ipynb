{
 "cells": [
  {
   "attachments": {},
   "cell_type": "markdown",
   "metadata": {},
   "source": [
    "# Regression Modelling Method"
   ]
  },
  {
   "attachments": {},
   "cell_type": "markdown",
   "metadata": {},
   "source": [
    "### Required Libraries and settings"
   ]
  },
  {
   "cell_type": "code",
   "execution_count": 1,
   "metadata": {},
   "outputs": [
    {
     "name": "stdout",
     "output_type": "stream",
     "text": [
      "c:\\Desktop\\data_analytics_project\\dataanalytics\\06_Statistical Data Analysis & Modelling\n"
     ]
    }
   ],
   "source": [
    "from pandas import json_normalize\n",
    "import requests\n",
    "import json\n",
    "import os\n",
    "import re\n",
    "import time\n",
    "import fnmatch\n",
    "import pandas as pd\n",
    "import numpy as np\n",
    "import glob\n",
    "import matplotlib.pyplot as plt\n",
    "import mysql.connector\n",
    "from pandas.io import sql\n",
    "from sqlalchemy import create_engine\n",
    "import pymysql\n",
    "import scipy.stats as stats\n",
    "pymysql.install_as_MySQLdb()\n",
    "import matplotlib.pyplot as plt\n",
    "from sklearn import linear_model\n",
    "from sklearn.model_selection import train_test_split\n",
    "from sklearn.ensemble import RandomForestRegressor\n",
    "from sklearn.tree import DecisionTreeRegressor\n",
    "from sklearn import tree\n",
    "from sklearn.metrics import r2_score\n",
    "from sklearn.datasets import make_regression\n",
    "import statsmodels.api as sm\n",
    "\n",
    "# Ignore warnings\n",
    "import warnings\n",
    "warnings.filterwarnings('ignore')\n",
    "\n",
    "#Get Current working directory\n",
    "print(os.getcwd())\n",
    "\n",
    "#Sho dbs in the directory\n",
    "flist = fnmatch.filter(os.listdir('.'), '*.db')\n",
    "for i in flist: \n",
    "    print(i)"
   ]
  },
  {
   "attachments": {},
   "cell_type": "markdown",
   "metadata": {},
   "source": [
    "#### Required additional installations"
   ]
  },
  {
   "cell_type": "code",
   "execution_count": 2,
   "metadata": {},
   "outputs": [],
   "source": [
    "#pip install statsmodels\n",
    "#pip install -U scikit-learn\n",
    "#pip install scikit-learn==1.1.2\n",
    "#pip install cryptography"
   ]
  },
  {
   "attachments": {},
   "cell_type": "markdown",
   "metadata": {},
   "source": [
    "### Start connection to mysql DB"
   ]
  },
  {
   "cell_type": "code",
   "execution_count": 3,
   "metadata": {},
   "outputs": [
    {
     "name": "stdout",
     "output_type": "stream",
     "text": [
      "<pymysql.connections.Connection object at 0x0000026BF11DEE30>\n",
      "('eatily',)\n",
      "('exercise',)\n",
      "('health',)\n",
      "('information_schema',)\n",
      "('mysql',)\n",
      "('performance_schema',)\n",
      "('project3a',)\n",
      "('project3b',)\n",
      "('projectda_database',)\n",
      "('sys',)\n"
     ]
    }
   ],
   "source": [
    "#DB Start connection to mysql\n",
    "mydb = pymysql.connect(\n",
    "  host=\"localhost\",\n",
    "  user=\"root\",\n",
    "  password=\"123turtle123!\")\n",
    "\n",
    "print(mydb)\n",
    "\n",
    "# Create data base\n",
    "cursor = mydb.cursor()\n",
    "cursor.execute(\"CREATE DATABASE IF NOT EXISTS projectDA_database\")\n",
    "\n",
    "# Show data bases in my sql\n",
    "cursor.execute(\"SHOW DATABASES\")\n",
    "\n",
    "for x in cursor:\n",
    "  print(x)\n"
   ]
  },
  {
   "cell_type": "code",
   "execution_count": 4,
   "metadata": {},
   "outputs": [
    {
     "name": "stdout",
     "output_type": "stream",
     "text": [
      "<pymysql.connections.Connection object at 0x0000026BF11DEDA0>\n"
     ]
    }
   ],
   "source": [
    "conn = pymysql.connect(\n",
    "host=\"localhost\",\n",
    "user=\"root\",\n",
    "password=\"123turtle123!\",\n",
    "database=\"projectda_database\")\n",
    "\n",
    "print(conn)\n",
    "\n",
    "cursor = conn.cursor()\n",
    "\n",
    "db_data = 'mysql+mysqldb://' + 'root' + ':' + '123turtle123!' + '@' + 'localhost' + ':3306/' \\\n",
    "       + 'projectda_database' + '?charset=utf8mb4'\n",
    "engine = create_engine(db_data)\n",
    "\n",
    "# Connect to the database\n",
    "connection = pymysql.connect(host='localhost',\n",
    "                         user='root',\n",
    "                         password='123turtle123!',\n",
    "                         db='projectda_database')  "
   ]
  },
  {
   "cell_type": "code",
   "execution_count": 5,
   "metadata": {},
   "outputs": [
    {
     "name": "stdout",
     "output_type": "stream",
     "text": [
      "(11302, 24)\n"
     ]
    },
    {
     "data": {
      "text/html": [
       "<div>\n",
       "<style scoped>\n",
       "    .dataframe tbody tr th:only-of-type {\n",
       "        vertical-align: middle;\n",
       "    }\n",
       "\n",
       "    .dataframe tbody tr th {\n",
       "        vertical-align: top;\n",
       "    }\n",
       "\n",
       "    .dataframe thead th {\n",
       "        text-align: right;\n",
       "    }\n",
       "</style>\n",
       "<table border=\"1\" class=\"dataframe\">\n",
       "  <thead>\n",
       "    <tr style=\"text-align: right;\">\n",
       "      <th></th>\n",
       "      <th>web-scraper-order</th>\n",
       "      <th>full_address</th>\n",
       "      <th>description</th>\n",
       "      <th>type</th>\n",
       "      <th>rooms</th>\n",
       "      <th>area</th>\n",
       "      <th>price</th>\n",
       "      <th>PLZ</th>\n",
       "      <th>Street</th>\n",
       "      <th>luxurious</th>\n",
       "      <th>...</th>\n",
       "      <th>central</th>\n",
       "      <th>price_per_m2</th>\n",
       "      <th>price_cat</th>\n",
       "      <th>area_cat</th>\n",
       "      <th>Ortschaftsname</th>\n",
       "      <th>BfS_Id</th>\n",
       "      <th>Kantonskürzel</th>\n",
       "      <th>Kantonssteuerfuss</th>\n",
       "      <th>Gemeindesteuerfuss</th>\n",
       "      <th>steuersatz_kombiniert</th>\n",
       "    </tr>\n",
       "  </thead>\n",
       "  <tbody>\n",
       "    <tr>\n",
       "      <th>0</th>\n",
       "      <td>1672673926-34302</td>\n",
       "      <td>6963 Pregassona</td>\n",
       "      <td>IN ZONA RESIDENZIALE TRANQUILLA E SOLEGGIATA P...</td>\n",
       "      <td>Wohnung</td>\n",
       "      <td>3.5</td>\n",
       "      <td>110</td>\n",
       "      <td>1000000</td>\n",
       "      <td>6963</td>\n",
       "      <td></td>\n",
       "      <td>1.0</td>\n",
       "      <td>...</td>\n",
       "      <td>0.0</td>\n",
       "      <td>9090.91</td>\n",
       "      <td>high</td>\n",
       "      <td>100-149</td>\n",
       "      <td>Pregassona</td>\n",
       "      <td>5192</td>\n",
       "      <td>TI</td>\n",
       "      <td>97.0</td>\n",
       "      <td>77.0</td>\n",
       "      <td>174.0</td>\n",
       "    </tr>\n",
       "    <tr>\n",
       "      <th>1</th>\n",
       "      <td>1672673926-34301</td>\n",
       "      <td>Via Ceresio 39A, 6963 Pregassona</td>\n",
       "      <td>A PREGASSONA, PROPONIAMO IN VENDITA UN LUMINOS...</td>\n",
       "      <td>Wohnung</td>\n",
       "      <td>3.5</td>\n",
       "      <td>80</td>\n",
       "      <td>500000</td>\n",
       "      <td>6963</td>\n",
       "      <td>Via Ceresio 39A</td>\n",
       "      <td>1.0</td>\n",
       "      <td>...</td>\n",
       "      <td>0.0</td>\n",
       "      <td>6250.00</td>\n",
       "      <td>medium</td>\n",
       "      <td>50 - 99</td>\n",
       "      <td>Pregassona</td>\n",
       "      <td>5192</td>\n",
       "      <td>TI</td>\n",
       "      <td>97.0</td>\n",
       "      <td>77.0</td>\n",
       "      <td>174.0</td>\n",
       "    </tr>\n",
       "    <tr>\n",
       "      <th>2</th>\n",
       "      <td>1672673272-29951</td>\n",
       "      <td>Via Vedo 3, 6963 Cureggia</td>\n",
       "      <td>RESIDENZE GOLD &amp; SILVER, 2 PALAZZINE OGNUNA CO...</td>\n",
       "      <td>Wohnung</td>\n",
       "      <td>4.5</td>\n",
       "      <td>141</td>\n",
       "      <td>1200000</td>\n",
       "      <td>6963</td>\n",
       "      <td>Via Vedo 3</td>\n",
       "      <td>1.0</td>\n",
       "      <td>...</td>\n",
       "      <td>1.0</td>\n",
       "      <td>8510.64</td>\n",
       "      <td>medium</td>\n",
       "      <td>100-149</td>\n",
       "      <td>Pregassona</td>\n",
       "      <td>5192</td>\n",
       "      <td>TI</td>\n",
       "      <td>97.0</td>\n",
       "      <td>77.0</td>\n",
       "      <td>174.0</td>\n",
       "    </tr>\n",
       "    <tr>\n",
       "      <th>3</th>\n",
       "      <td>1672673272-29952</td>\n",
       "      <td>Via vedo 3, 6963 Cureggia</td>\n",
       "      <td>RESIDENZE GOLD &amp; SILVER, 2 PALAZZINE OGNUNA CO...</td>\n",
       "      <td>Wohnung</td>\n",
       "      <td>4.5</td>\n",
       "      <td>238</td>\n",
       "      <td>2360000</td>\n",
       "      <td>6963</td>\n",
       "      <td>Via vedo 3</td>\n",
       "      <td>1.0</td>\n",
       "      <td>...</td>\n",
       "      <td>1.0</td>\n",
       "      <td>9915.97</td>\n",
       "      <td>high</td>\n",
       "      <td>100-149</td>\n",
       "      <td>Pregassona</td>\n",
       "      <td>5192</td>\n",
       "      <td>TI</td>\n",
       "      <td>97.0</td>\n",
       "      <td>77.0</td>\n",
       "      <td>174.0</td>\n",
       "    </tr>\n",
       "    <tr>\n",
       "      <th>4</th>\n",
       "      <td>1672673816-33571</td>\n",
       "      <td>via Ceresio, 6963 Pregassona</td>\n",
       "      <td>A PREGASSONA COMODISSIMO MONOLOCALE AL SECONDO...</td>\n",
       "      <td>Wohnung</td>\n",
       "      <td>1.0</td>\n",
       "      <td>30</td>\n",
       "      <td>270000</td>\n",
       "      <td>6963</td>\n",
       "      <td>via Ceresio</td>\n",
       "      <td>0.0</td>\n",
       "      <td>...</td>\n",
       "      <td>0.0</td>\n",
       "      <td>9000.00</td>\n",
       "      <td>medium</td>\n",
       "      <td>0 - 49</td>\n",
       "      <td>Pregassona</td>\n",
       "      <td>5192</td>\n",
       "      <td>TI</td>\n",
       "      <td>97.0</td>\n",
       "      <td>77.0</td>\n",
       "      <td>174.0</td>\n",
       "    </tr>\n",
       "  </tbody>\n",
       "</table>\n",
       "<p>5 rows × 24 columns</p>\n",
       "</div>"
      ],
      "text/plain": [
       "  web-scraper-order                      full_address  \\\n",
       "0  1672673926-34302                   6963 Pregassona   \n",
       "1  1672673926-34301  Via Ceresio 39A, 6963 Pregassona   \n",
       "2  1672673272-29951         Via Vedo 3, 6963 Cureggia   \n",
       "3  1672673272-29952         Via vedo 3, 6963 Cureggia   \n",
       "4  1672673816-33571      via Ceresio, 6963 Pregassona   \n",
       "\n",
       "                                         description     type  rooms  area  \\\n",
       "0  IN ZONA RESIDENZIALE TRANQUILLA E SOLEGGIATA P...  Wohnung    3.5   110   \n",
       "1  A PREGASSONA, PROPONIAMO IN VENDITA UN LUMINOS...  Wohnung    3.5    80   \n",
       "2  RESIDENZE GOLD & SILVER, 2 PALAZZINE OGNUNA CO...  Wohnung    4.5   141   \n",
       "3  RESIDENZE GOLD & SILVER, 2 PALAZZINE OGNUNA CO...  Wohnung    4.5   238   \n",
       "4  A PREGASSONA COMODISSIMO MONOLOCALE AL SECONDO...  Wohnung    1.0    30   \n",
       "\n",
       "     price   PLZ           Street  luxurious  ...  central  price_per_m2  \\\n",
       "0  1000000  6963                         1.0  ...      0.0       9090.91   \n",
       "1   500000  6963  Via Ceresio 39A        1.0  ...      0.0       6250.00   \n",
       "2  1200000  6963       Via Vedo 3        1.0  ...      1.0       8510.64   \n",
       "3  2360000  6963       Via vedo 3        1.0  ...      1.0       9915.97   \n",
       "4   270000  6963      via Ceresio        0.0  ...      0.0       9000.00   \n",
       "\n",
       "   price_cat  area_cat  Ortschaftsname  BfS_Id Kantonskürzel  \\\n",
       "0       high   100-149      Pregassona    5192            TI   \n",
       "1     medium   50 - 99      Pregassona    5192            TI   \n",
       "2     medium   100-149      Pregassona    5192            TI   \n",
       "3       high   100-149      Pregassona    5192            TI   \n",
       "4     medium    0 - 49      Pregassona    5192            TI   \n",
       "\n",
       "  Kantonssteuerfuss Gemeindesteuerfuss  steuersatz_kombiniert  \n",
       "0              97.0               77.0                  174.0  \n",
       "1              97.0               77.0                  174.0  \n",
       "2              97.0               77.0                  174.0  \n",
       "3              97.0               77.0                  174.0  \n",
       "4              97.0               77.0                  174.0  \n",
       "\n",
       "[5 rows x 24 columns]"
      ]
     },
     "execution_count": 5,
     "metadata": {},
     "output_type": "execute_result"
    }
   ],
   "source": [
    "#define fields for upload mysqldb\n",
    "df_apartments_database = pd.read_csv('../04_Preparing & Storing Data/dataset_homegate_enriched.csv', sep=',', encoding='utf-8')[['web-scraper-order', 'full_address', 'description', 'type', 'rooms', 'area', 'price', 'PLZ', 'Street', 'luxurious', 'furnished', 'balcony', 'garden', 'quiet', 'central', 'price_per_m2', 'price_cat', 'area_cat', 'Ortschaftsname', 'BfS_Id', 'Kantonskürzel', 'Kantonssteuerfuss', 'Gemeindesteuerfuss', 'steuersatz_kombiniert']]\n",
    "print(df_apartments_database.shape)\n",
    "df_apartments_database.head(5)\n"
   ]
  },
  {
   "cell_type": "code",
   "execution_count": 6,
   "metadata": {},
   "outputs": [
    {
     "name": "stdout",
     "output_type": "stream",
     "text": [
      "Dimension:  (11302, 24)\n",
      "Number of Rows:  11302\n",
      "Number of Columns:  24\n"
     ]
    },
    {
     "data": {
      "text/plain": [
       "web-scraper-order         object\n",
       "full_address              object\n",
       "description               object\n",
       "type                      object\n",
       "rooms                    float64\n",
       "area                       int64\n",
       "price                      int64\n",
       "PLZ                        int64\n",
       "Street                    object\n",
       "luxurious                float64\n",
       "furnished                float64\n",
       "balcony                  float64\n",
       "garden                   float64\n",
       "quiet                    float64\n",
       "central                  float64\n",
       "price_per_m2             float64\n",
       "price_cat                 object\n",
       "area_cat                  object\n",
       "Ortschaftsname            object\n",
       "BfS_Id                     int64\n",
       "Kantonskürzel             object\n",
       "Kantonssteuerfuss        float64\n",
       "Gemeindesteuerfuss       float64\n",
       "steuersatz_kombiniert    float64\n",
       "dtype: object"
      ]
     },
     "execution_count": 6,
     "metadata": {},
     "output_type": "execute_result"
    }
   ],
   "source": [
    "#Dimension (rows, columns)\n",
    "print('Dimension: ', df_apartments_database.shape)\n",
    "\n",
    "#Number of Rows\n",
    "print('Number of Rows: ', df_apartments_database.shape[0])\n",
    "\n",
    "#Number of Columns\n",
    "print('Number of Columns: ', df_apartments_database.shape[1])\n",
    "\n",
    "# Get data types\n",
    "df_apartments_database.dtypes\n"
   ]
  },
  {
   "cell_type": "code",
   "execution_count": 7,
   "metadata": {},
   "outputs": [
    {
     "name": "stdout",
     "output_type": "stream",
     "text": [
      "(11302, 24)\n"
     ]
    },
    {
     "data": {
      "text/html": [
       "<div>\n",
       "<style scoped>\n",
       "    .dataframe tbody tr th:only-of-type {\n",
       "        vertical-align: middle;\n",
       "    }\n",
       "\n",
       "    .dataframe tbody tr th {\n",
       "        vertical-align: top;\n",
       "    }\n",
       "\n",
       "    .dataframe thead th {\n",
       "        text-align: right;\n",
       "    }\n",
       "</style>\n",
       "<table border=\"1\" class=\"dataframe\">\n",
       "  <thead>\n",
       "    <tr style=\"text-align: right;\">\n",
       "      <th></th>\n",
       "      <th>web-scraper-order</th>\n",
       "      <th>full_address</th>\n",
       "      <th>description</th>\n",
       "      <th>type</th>\n",
       "      <th>rooms</th>\n",
       "      <th>area</th>\n",
       "      <th>price</th>\n",
       "      <th>PLZ</th>\n",
       "      <th>Street</th>\n",
       "      <th>luxurious</th>\n",
       "      <th>...</th>\n",
       "      <th>central</th>\n",
       "      <th>price_per_m2</th>\n",
       "      <th>price_cat</th>\n",
       "      <th>area_cat</th>\n",
       "      <th>Ortschaftsname</th>\n",
       "      <th>BfS_Id</th>\n",
       "      <th>Kantonskürzel</th>\n",
       "      <th>Kantonssteuerfuss</th>\n",
       "      <th>Gemeindesteuerfuss</th>\n",
       "      <th>steuersatz_kombiniert</th>\n",
       "    </tr>\n",
       "  </thead>\n",
       "  <tbody>\n",
       "    <tr>\n",
       "      <th>0</th>\n",
       "      <td>1672673926-34302</td>\n",
       "      <td>6963 Pregassona</td>\n",
       "      <td>IN ZONA RESIDENZIALE TRANQUILLA E SOLEGGIATA P...</td>\n",
       "      <td>Wohnung</td>\n",
       "      <td>3.5</td>\n",
       "      <td>110</td>\n",
       "      <td>1000000</td>\n",
       "      <td>6963</td>\n",
       "      <td></td>\n",
       "      <td>1.0</td>\n",
       "      <td>...</td>\n",
       "      <td>0.0</td>\n",
       "      <td>9090.91</td>\n",
       "      <td>high</td>\n",
       "      <td>100-149</td>\n",
       "      <td>Pregassona</td>\n",
       "      <td>5192</td>\n",
       "      <td>TI</td>\n",
       "      <td>97.0</td>\n",
       "      <td>77.0</td>\n",
       "      <td>174.0</td>\n",
       "    </tr>\n",
       "    <tr>\n",
       "      <th>1</th>\n",
       "      <td>1672673926-34301</td>\n",
       "      <td>Via Ceresio 39A, 6963 Pregassona</td>\n",
       "      <td>A PREGASSONA, PROPONIAMO IN VENDITA UN LUMINOS...</td>\n",
       "      <td>Wohnung</td>\n",
       "      <td>3.5</td>\n",
       "      <td>80</td>\n",
       "      <td>500000</td>\n",
       "      <td>6963</td>\n",
       "      <td>Via Ceresio 39A</td>\n",
       "      <td>1.0</td>\n",
       "      <td>...</td>\n",
       "      <td>0.0</td>\n",
       "      <td>6250.00</td>\n",
       "      <td>medium</td>\n",
       "      <td>50 - 99</td>\n",
       "      <td>Pregassona</td>\n",
       "      <td>5192</td>\n",
       "      <td>TI</td>\n",
       "      <td>97.0</td>\n",
       "      <td>77.0</td>\n",
       "      <td>174.0</td>\n",
       "    </tr>\n",
       "    <tr>\n",
       "      <th>2</th>\n",
       "      <td>1672673272-29951</td>\n",
       "      <td>Via Vedo 3, 6963 Cureggia</td>\n",
       "      <td>RESIDENZE GOLD &amp; SILVER, 2 PALAZZINE OGNUNA CO...</td>\n",
       "      <td>Wohnung</td>\n",
       "      <td>4.5</td>\n",
       "      <td>141</td>\n",
       "      <td>1200000</td>\n",
       "      <td>6963</td>\n",
       "      <td>Via Vedo 3</td>\n",
       "      <td>1.0</td>\n",
       "      <td>...</td>\n",
       "      <td>1.0</td>\n",
       "      <td>8510.64</td>\n",
       "      <td>medium</td>\n",
       "      <td>100-149</td>\n",
       "      <td>Pregassona</td>\n",
       "      <td>5192</td>\n",
       "      <td>TI</td>\n",
       "      <td>97.0</td>\n",
       "      <td>77.0</td>\n",
       "      <td>174.0</td>\n",
       "    </tr>\n",
       "    <tr>\n",
       "      <th>3</th>\n",
       "      <td>1672673272-29952</td>\n",
       "      <td>Via vedo 3, 6963 Cureggia</td>\n",
       "      <td>RESIDENZE GOLD &amp; SILVER, 2 PALAZZINE OGNUNA CO...</td>\n",
       "      <td>Wohnung</td>\n",
       "      <td>4.5</td>\n",
       "      <td>238</td>\n",
       "      <td>2360000</td>\n",
       "      <td>6963</td>\n",
       "      <td>Via vedo 3</td>\n",
       "      <td>1.0</td>\n",
       "      <td>...</td>\n",
       "      <td>1.0</td>\n",
       "      <td>9915.97</td>\n",
       "      <td>high</td>\n",
       "      <td>100-149</td>\n",
       "      <td>Pregassona</td>\n",
       "      <td>5192</td>\n",
       "      <td>TI</td>\n",
       "      <td>97.0</td>\n",
       "      <td>77.0</td>\n",
       "      <td>174.0</td>\n",
       "    </tr>\n",
       "    <tr>\n",
       "      <th>4</th>\n",
       "      <td>1672673816-33571</td>\n",
       "      <td>via Ceresio, 6963 Pregassona</td>\n",
       "      <td>A PREGASSONA COMODISSIMO MONOLOCALE AL SECONDO...</td>\n",
       "      <td>Wohnung</td>\n",
       "      <td>1.0</td>\n",
       "      <td>30</td>\n",
       "      <td>270000</td>\n",
       "      <td>6963</td>\n",
       "      <td>via Ceresio</td>\n",
       "      <td>0.0</td>\n",
       "      <td>...</td>\n",
       "      <td>0.0</td>\n",
       "      <td>9000.00</td>\n",
       "      <td>medium</td>\n",
       "      <td>0 - 49</td>\n",
       "      <td>Pregassona</td>\n",
       "      <td>5192</td>\n",
       "      <td>TI</td>\n",
       "      <td>97.0</td>\n",
       "      <td>77.0</td>\n",
       "      <td>174.0</td>\n",
       "    </tr>\n",
       "  </tbody>\n",
       "</table>\n",
       "<p>5 rows × 24 columns</p>\n",
       "</div>"
      ],
      "text/plain": [
       "  web-scraper-order                      full_address  \\\n",
       "0  1672673926-34302                   6963 Pregassona   \n",
       "1  1672673926-34301  Via Ceresio 39A, 6963 Pregassona   \n",
       "2  1672673272-29951         Via Vedo 3, 6963 Cureggia   \n",
       "3  1672673272-29952         Via vedo 3, 6963 Cureggia   \n",
       "4  1672673816-33571      via Ceresio, 6963 Pregassona   \n",
       "\n",
       "                                         description     type  rooms  area  \\\n",
       "0  IN ZONA RESIDENZIALE TRANQUILLA E SOLEGGIATA P...  Wohnung    3.5   110   \n",
       "1  A PREGASSONA, PROPONIAMO IN VENDITA UN LUMINOS...  Wohnung    3.5    80   \n",
       "2  RESIDENZE GOLD & SILVER, 2 PALAZZINE OGNUNA CO...  Wohnung    4.5   141   \n",
       "3  RESIDENZE GOLD & SILVER, 2 PALAZZINE OGNUNA CO...  Wohnung    4.5   238   \n",
       "4  A PREGASSONA COMODISSIMO MONOLOCALE AL SECONDO...  Wohnung    1.0    30   \n",
       "\n",
       "     price   PLZ           Street  luxurious  ...  central  price_per_m2  \\\n",
       "0  1000000  6963                         1.0  ...      0.0       9090.91   \n",
       "1   500000  6963  Via Ceresio 39A        1.0  ...      0.0       6250.00   \n",
       "2  1200000  6963       Via Vedo 3        1.0  ...      1.0       8510.64   \n",
       "3  2360000  6963       Via vedo 3        1.0  ...      1.0       9915.97   \n",
       "4   270000  6963      via Ceresio        0.0  ...      0.0       9000.00   \n",
       "\n",
       "   price_cat  area_cat  Ortschaftsname  BfS_Id Kantonskürzel  \\\n",
       "0       high   100-149      Pregassona    5192            TI   \n",
       "1     medium   50 - 99      Pregassona    5192            TI   \n",
       "2     medium   100-149      Pregassona    5192            TI   \n",
       "3       high   100-149      Pregassona    5192            TI   \n",
       "4     medium    0 - 49      Pregassona    5192            TI   \n",
       "\n",
       "  Kantonssteuerfuss Gemeindesteuerfuss  steuersatz_kombiniert  \n",
       "0              97.0               77.0                  174.0  \n",
       "1              97.0               77.0                  174.0  \n",
       "2              97.0               77.0                  174.0  \n",
       "3              97.0               77.0                  174.0  \n",
       "4              97.0               77.0                  174.0  \n",
       "\n",
       "[5 rows x 24 columns]"
      ]
     },
     "execution_count": 7,
     "metadata": {},
     "output_type": "execute_result"
    }
   ],
   "source": [
    "#define field for uploads\n",
    "\n",
    "df_apartments_database = pd.read_csv('../04_Preparing & Storing Data/dataset_homegate_enriched.csv', sep=',', encoding='utf-8')[['web-scraper-order', 'full_address', 'description', 'type', 'rooms', 'area', 'price', 'PLZ', 'Street', 'luxurious', 'furnished', 'balcony', 'garden', 'quiet', 'central', 'price_per_m2', 'price_cat', 'area_cat', 'Ortschaftsname', 'BfS_Id', 'Kantonskürzel', 'Kantonssteuerfuss', 'Gemeindesteuerfuss', 'steuersatz_kombiniert']]\n",
    "print(df_apartments_database.shape)\n",
    "df_apartments_database.head(5)"
   ]
  },
  {
   "cell_type": "code",
   "execution_count": 8,
   "metadata": {},
   "outputs": [],
   "source": [
    "# create cursor\n",
    "cursor=connection.cursor()\n",
    "# Execute the to_sql for writting DF into SQL\n",
    "df_apartments_database.to_sql('dataset_homegate_table', engine, if_exists='replace', index=False)    \n",
    "\n",
    "# Execute query\n",
    "sql = \"SELECT * FROM `dataset_homegate_table`\"\n",
    "cursor.execute(sql)\n",
    "\n",
    "engine.dispose()"
   ]
  },
  {
   "cell_type": "code",
   "execution_count": 9,
   "metadata": {},
   "outputs": [
    {
     "name": "stdout",
     "output_type": "stream",
     "text": [
      "                     0                                 1   \\\n",
      "0      1672673926-34302                   6963 Pregassona   \n",
      "1      1672673926-34301  Via Ceresio 39A, 6963 Pregassona   \n",
      "2      1672673272-29951         Via Vedo 3, 6963 Cureggia   \n",
      "3      1672673272-29952         Via vedo 3, 6963 Cureggia   \n",
      "4      1672673816-33571      via Ceresio, 6963 Pregassona   \n",
      "...                 ...                               ...   \n",
      "11297  1672672530-27225             6545 Brione s/Minusio   \n",
      "11298  1672672530-27237       Dorfstrasse 7b, 5624 Bünzen   \n",
      "11299  1672672536-27271                      6275 Ballwil   \n",
      "11300  1672672536-27272                      6275 Ballwil   \n",
      "11301  1672672539-27282                        3951 Agarn   \n",
      "\n",
      "                                                      2        3    4    5   \\\n",
      "0      IN ZONA RESIDENZIALE TRANQUILLA E SOLEGGIATA P...  Wohnung  3.5  110   \n",
      "1      A PREGASSONA, PROPONIAMO IN VENDITA UN LUMINOS...  Wohnung  3.5   80   \n",
      "2      RESIDENZE GOLD & SILVER, 2 PALAZZINE OGNUNA CO...  Wohnung  4.5  141   \n",
      "3      RESIDENZE GOLD & SILVER, 2 PALAZZINE OGNUNA CO...  Wohnung  4.5  238   \n",
      "4      A PREGASSONA COMODISSIMO MONOLOCALE AL SECONDO...  Wohnung  1.0   30   \n",
      "...                                                  ...      ...  ...  ...   \n",
      "11297  IN EINER IDYLLISCHEN UND RUHIGEN SONNENLAGE VO...     Haus  5.5  120   \n",
      "11298  DAS 7.5 ZIMMER DOPPELEINFAMILIENHAUS BEFINDET ...     Haus  7.5  190   \n",
      "11299  ZUM ANGEBOT STEHT EIN SCHÖNES, GEPFLEGTES HAUS...     Haus  5.5  147   \n",
      "11300  5.5-MAISONETTE- & 3.5-ZIMMER-WOHNUNG. DAS ZWEI...     Haus  9.0  254   \n",
      "11301  LA MAISON EST SITUÉE AU CENTRE DU VILLAGE DATA...     Haus  4.0  102   \n",
      "\n",
      "            6     7                8    9   ...   14        15      16  \\\n",
      "0      1000000  6963                   1.0  ...  0.0   9090.91    high   \n",
      "1       500000  6963  Via Ceresio 39A  1.0  ...  0.0   6250.00  medium   \n",
      "2      1200000  6963       Via Vedo 3  1.0  ...  1.0   8510.64  medium   \n",
      "3      2360000  6963       Via vedo 3  1.0  ...  1.0   9915.97    high   \n",
      "4       270000  6963      via Ceresio  0.0  ...  0.0   9000.00  medium   \n",
      "...        ...   ...              ...  ...  ...  ...       ...     ...   \n",
      "11297  1380000  6545                   1.0  ...  0.0  11500.00    high   \n",
      "11298  1122000  5624   Dorfstrasse 7b  1.0  ...  0.0   5905.26     low   \n",
      "11299  1360000  6275                   1.0  ...  0.0   9251.70    high   \n",
      "11300  1580000  6275                   1.0  ...  0.0   6220.47  medium   \n",
      "11301   350000  3951                   1.0  ...  1.0   3431.37     low   \n",
      "\n",
      "            17          18    19  20     21     22     23  \n",
      "0      100-149  Pregassona  5192  TI   97.0   77.0  174.0  \n",
      "1      50 - 99  Pregassona  5192  TI   97.0   77.0  174.0  \n",
      "2      100-149  Pregassona  5192  TI   97.0   77.0  174.0  \n",
      "3      100-149  Pregassona  5192  TI   97.0   77.0  174.0  \n",
      "4       0 - 49  Pregassona  5192  TI   97.0   77.0  174.0  \n",
      "...        ...         ...   ...  ..    ...    ...    ...  \n",
      "11297  100-149       Selma  3837  GR  100.0  100.0  200.0  \n",
      "11298  100-149      Bünzen  4229  AG  112.0  110.0  222.0  \n",
      "11299  100-149     Ballwil  1023  LU  160.0  150.0  310.0  \n",
      "11300  100-149     Ballwil  1023  LU  160.0  150.0  310.0  \n",
      "11301  100-149       Agarn  6101  VS  100.0  130.0  230.0  \n",
      "\n",
      "[11302 rows x 24 columns]\n"
     ]
    }
   ],
   "source": [
    "# Query the SQL-table\n",
    "cursor.execute('SELECT * FROM projectda_database.dataset_homegate_table;')\n",
    "\n",
    "df = pd.DataFrame(cursor.fetchall())    \n",
    "print(df)"
   ]
  },
  {
   "cell_type": "code",
   "execution_count": 10,
   "metadata": {},
   "outputs": [
    {
     "name": "stdout",
     "output_type": "stream",
     "text": [
      "(11302, 5)\n"
     ]
    },
    {
     "data": {
      "text/html": [
       "<div>\n",
       "<style scoped>\n",
       "    .dataframe tbody tr th:only-of-type {\n",
       "        vertical-align: middle;\n",
       "    }\n",
       "\n",
       "    .dataframe tbody tr th {\n",
       "        vertical-align: top;\n",
       "    }\n",
       "\n",
       "    .dataframe thead th {\n",
       "        text-align: right;\n",
       "    }\n",
       "</style>\n",
       "<table border=\"1\" class=\"dataframe\">\n",
       "  <thead>\n",
       "    <tr style=\"text-align: right;\">\n",
       "      <th></th>\n",
       "      <th>0</th>\n",
       "      <th>1</th>\n",
       "      <th>2</th>\n",
       "      <th>3</th>\n",
       "      <th>4</th>\n",
       "    </tr>\n",
       "  </thead>\n",
       "  <tbody>\n",
       "    <tr>\n",
       "      <th>0</th>\n",
       "      <td>Wohnung</td>\n",
       "      <td>3.5</td>\n",
       "      <td>110</td>\n",
       "      <td>1000000</td>\n",
       "      <td>9090.91</td>\n",
       "    </tr>\n",
       "    <tr>\n",
       "      <th>1</th>\n",
       "      <td>Wohnung</td>\n",
       "      <td>3.5</td>\n",
       "      <td>80</td>\n",
       "      <td>500000</td>\n",
       "      <td>6250.00</td>\n",
       "    </tr>\n",
       "    <tr>\n",
       "      <th>2</th>\n",
       "      <td>Wohnung</td>\n",
       "      <td>4.5</td>\n",
       "      <td>141</td>\n",
       "      <td>1200000</td>\n",
       "      <td>8510.64</td>\n",
       "    </tr>\n",
       "    <tr>\n",
       "      <th>3</th>\n",
       "      <td>Wohnung</td>\n",
       "      <td>4.5</td>\n",
       "      <td>238</td>\n",
       "      <td>2360000</td>\n",
       "      <td>9915.97</td>\n",
       "    </tr>\n",
       "    <tr>\n",
       "      <th>4</th>\n",
       "      <td>Wohnung</td>\n",
       "      <td>1.0</td>\n",
       "      <td>30</td>\n",
       "      <td>270000</td>\n",
       "      <td>9000.00</td>\n",
       "    </tr>\n",
       "  </tbody>\n",
       "</table>\n",
       "</div>"
      ],
      "text/plain": [
       "         0    1    2        3        4\n",
       "0  Wohnung  3.5  110  1000000  9090.91\n",
       "1  Wohnung  3.5   80   500000  6250.00\n",
       "2  Wohnung  4.5  141  1200000  8510.64\n",
       "3  Wohnung  4.5  238  2360000  9915.97\n",
       "4  Wohnung  1.0   30   270000  9000.00"
      ]
     },
     "execution_count": 10,
     "metadata": {},
     "output_type": "execute_result"
    }
   ],
   "source": [
    "#Define columns\n",
    "\n",
    "columns = ['web-scraper-order', 'full_address', 'description', 'type', 'rooms', 'area', 'price', 'PLZ', 'Street', 'luxurious', 'furnished', 'balcony', 'garden', 'quiet', 'central', 'price_per_m2', 'price_cat', 'area_cat', 'Ortschaftsname', 'BfS_Id', 'Kantonskürzel', 'Kantonssteuerfuss', 'Gemeindesteuerfuss', 'steuersatz_kombiniert']\n",
    "\n",
    "#cursor.execute('SELECT * FROM projectda_database.dataset_homegate_table;')\n",
    "cursor.execute('SELECT type, rooms, area, price, price_per_m2 FROM projectda_database.dataset_homegate_table;')\n",
    "\n",
    "df = pd.DataFrame(cursor.fetchall())    \n",
    "#print(df)\n",
    "\n",
    "print(df.shape)\n",
    "df.head(5)\n"
   ]
  },
  {
   "attachments": {},
   "cell_type": "markdown",
   "metadata": {},
   "source": [
    "# Linear regression\n",
    "\n",
    "In order to evaluate our main hypothesis: The higher the Mean Value of the cantonal tax percentage (cantonal tax percentage + municipal tax percentage), the lower are the house and apartment prices in Switzerland. Additional hypotheses and null hypotheses are made to support the research study.\n",
    "\n",
    "\n",
    "Hypotheses 1.\n",
    "\n",
    "H1: The  tax rate influences the purchase price per m2 of apartments and houses. <br>\n",
    "H0: The  tax rate does not influence the purchase price per m2 of apartments and houses.\n",
    "\n",
    "Hypotheses 2. \n",
    "\n",
    "H1: The tax rate and the number of square meters influence the purchase price per m2 of apartments and houses. <br>\n",
    "H0: The tax rate and the number of square meters do not influence the purchase price per m2 of apartments and houses.\n"
   ]
  },
  {
   "attachments": {},
   "cell_type": "markdown",
   "metadata": {},
   "source": [
    "### Retrieve data from MySQL Database"
   ]
  },
  {
   "cell_type": "code",
   "execution_count": 11,
   "metadata": {},
   "outputs": [
    {
     "name": "stdout",
     "output_type": "stream",
     "text": [
      "(11302, 24)\n",
      "(11276, 24)\n"
     ]
    },
    {
     "data": {
      "text/html": [
       "<div>\n",
       "<style scoped>\n",
       "    .dataframe tbody tr th:only-of-type {\n",
       "        vertical-align: middle;\n",
       "    }\n",
       "\n",
       "    .dataframe tbody tr th {\n",
       "        vertical-align: top;\n",
       "    }\n",
       "\n",
       "    .dataframe thead th {\n",
       "        text-align: right;\n",
       "    }\n",
       "</style>\n",
       "<table border=\"1\" class=\"dataframe\">\n",
       "  <thead>\n",
       "    <tr style=\"text-align: right;\">\n",
       "      <th></th>\n",
       "      <th>id</th>\n",
       "      <th>full_address</th>\n",
       "      <th>description</th>\n",
       "      <th>type</th>\n",
       "      <th>rooms</th>\n",
       "      <th>area</th>\n",
       "      <th>price</th>\n",
       "      <th>PLZ</th>\n",
       "      <th>Street</th>\n",
       "      <th>luxurious</th>\n",
       "      <th>...</th>\n",
       "      <th>central</th>\n",
       "      <th>price_per_m2</th>\n",
       "      <th>price_cat</th>\n",
       "      <th>area_cat</th>\n",
       "      <th>Ortschaftsname</th>\n",
       "      <th>BfS_Id</th>\n",
       "      <th>Kantonskürzel</th>\n",
       "      <th>Kantonssteuerfuss</th>\n",
       "      <th>Gemeindesteuerfuss</th>\n",
       "      <th>steuersatz_kombiniert</th>\n",
       "    </tr>\n",
       "  </thead>\n",
       "  <tbody>\n",
       "    <tr>\n",
       "      <th>0</th>\n",
       "      <td>1672673926-34302</td>\n",
       "      <td>6963 Pregassona</td>\n",
       "      <td>IN ZONA RESIDENZIALE TRANQUILLA E SOLEGGIATA P...</td>\n",
       "      <td>Wohnung</td>\n",
       "      <td>3.5</td>\n",
       "      <td>110</td>\n",
       "      <td>1000000</td>\n",
       "      <td>6963</td>\n",
       "      <td></td>\n",
       "      <td>1.0</td>\n",
       "      <td>...</td>\n",
       "      <td>0.0</td>\n",
       "      <td>9090.91</td>\n",
       "      <td>high</td>\n",
       "      <td>100-149</td>\n",
       "      <td>Pregassona</td>\n",
       "      <td>5192</td>\n",
       "      <td>TI</td>\n",
       "      <td>97.0</td>\n",
       "      <td>77.0</td>\n",
       "      <td>174.0</td>\n",
       "    </tr>\n",
       "    <tr>\n",
       "      <th>1</th>\n",
       "      <td>1672673926-34301</td>\n",
       "      <td>Via Ceresio 39A, 6963 Pregassona</td>\n",
       "      <td>A PREGASSONA, PROPONIAMO IN VENDITA UN LUMINOS...</td>\n",
       "      <td>Wohnung</td>\n",
       "      <td>3.5</td>\n",
       "      <td>80</td>\n",
       "      <td>500000</td>\n",
       "      <td>6963</td>\n",
       "      <td>Via Ceresio 39A</td>\n",
       "      <td>1.0</td>\n",
       "      <td>...</td>\n",
       "      <td>0.0</td>\n",
       "      <td>6250.00</td>\n",
       "      <td>medium</td>\n",
       "      <td>50 - 99</td>\n",
       "      <td>Pregassona</td>\n",
       "      <td>5192</td>\n",
       "      <td>TI</td>\n",
       "      <td>97.0</td>\n",
       "      <td>77.0</td>\n",
       "      <td>174.0</td>\n",
       "    </tr>\n",
       "    <tr>\n",
       "      <th>2</th>\n",
       "      <td>1672673272-29951</td>\n",
       "      <td>Via Vedo 3, 6963 Cureggia</td>\n",
       "      <td>RESIDENZE GOLD &amp; SILVER, 2 PALAZZINE OGNUNA CO...</td>\n",
       "      <td>Wohnung</td>\n",
       "      <td>4.5</td>\n",
       "      <td>141</td>\n",
       "      <td>1200000</td>\n",
       "      <td>6963</td>\n",
       "      <td>Via Vedo 3</td>\n",
       "      <td>1.0</td>\n",
       "      <td>...</td>\n",
       "      <td>1.0</td>\n",
       "      <td>8510.64</td>\n",
       "      <td>medium</td>\n",
       "      <td>100-149</td>\n",
       "      <td>Pregassona</td>\n",
       "      <td>5192</td>\n",
       "      <td>TI</td>\n",
       "      <td>97.0</td>\n",
       "      <td>77.0</td>\n",
       "      <td>174.0</td>\n",
       "    </tr>\n",
       "    <tr>\n",
       "      <th>3</th>\n",
       "      <td>1672673272-29952</td>\n",
       "      <td>Via vedo 3, 6963 Cureggia</td>\n",
       "      <td>RESIDENZE GOLD &amp; SILVER, 2 PALAZZINE OGNUNA CO...</td>\n",
       "      <td>Wohnung</td>\n",
       "      <td>4.5</td>\n",
       "      <td>238</td>\n",
       "      <td>2360000</td>\n",
       "      <td>6963</td>\n",
       "      <td>Via vedo 3</td>\n",
       "      <td>1.0</td>\n",
       "      <td>...</td>\n",
       "      <td>1.0</td>\n",
       "      <td>9915.97</td>\n",
       "      <td>high</td>\n",
       "      <td>100-149</td>\n",
       "      <td>Pregassona</td>\n",
       "      <td>5192</td>\n",
       "      <td>TI</td>\n",
       "      <td>97.0</td>\n",
       "      <td>77.0</td>\n",
       "      <td>174.0</td>\n",
       "    </tr>\n",
       "    <tr>\n",
       "      <th>4</th>\n",
       "      <td>1672673816-33571</td>\n",
       "      <td>via Ceresio, 6963 Pregassona</td>\n",
       "      <td>A PREGASSONA COMODISSIMO MONOLOCALE AL SECONDO...</td>\n",
       "      <td>Wohnung</td>\n",
       "      <td>1.0</td>\n",
       "      <td>30</td>\n",
       "      <td>270000</td>\n",
       "      <td>6963</td>\n",
       "      <td>via Ceresio</td>\n",
       "      <td>0.0</td>\n",
       "      <td>...</td>\n",
       "      <td>0.0</td>\n",
       "      <td>9000.00</td>\n",
       "      <td>medium</td>\n",
       "      <td>0 - 49</td>\n",
       "      <td>Pregassona</td>\n",
       "      <td>5192</td>\n",
       "      <td>TI</td>\n",
       "      <td>97.0</td>\n",
       "      <td>77.0</td>\n",
       "      <td>174.0</td>\n",
       "    </tr>\n",
       "  </tbody>\n",
       "</table>\n",
       "<p>5 rows × 24 columns</p>\n",
       "</div>"
      ],
      "text/plain": [
       "                 id                      full_address  \\\n",
       "0  1672673926-34302                   6963 Pregassona   \n",
       "1  1672673926-34301  Via Ceresio 39A, 6963 Pregassona   \n",
       "2  1672673272-29951         Via Vedo 3, 6963 Cureggia   \n",
       "3  1672673272-29952         Via vedo 3, 6963 Cureggia   \n",
       "4  1672673816-33571      via Ceresio, 6963 Pregassona   \n",
       "\n",
       "                                         description     type  rooms  area  \\\n",
       "0  IN ZONA RESIDENZIALE TRANQUILLA E SOLEGGIATA P...  Wohnung    3.5   110   \n",
       "1  A PREGASSONA, PROPONIAMO IN VENDITA UN LUMINOS...  Wohnung    3.5    80   \n",
       "2  RESIDENZE GOLD & SILVER, 2 PALAZZINE OGNUNA CO...  Wohnung    4.5   141   \n",
       "3  RESIDENZE GOLD & SILVER, 2 PALAZZINE OGNUNA CO...  Wohnung    4.5   238   \n",
       "4  A PREGASSONA COMODISSIMO MONOLOCALE AL SECONDO...  Wohnung    1.0    30   \n",
       "\n",
       "     price   PLZ           Street  luxurious  ...  central  price_per_m2  \\\n",
       "0  1000000  6963                         1.0  ...      0.0       9090.91   \n",
       "1   500000  6963  Via Ceresio 39A        1.0  ...      0.0       6250.00   \n",
       "2  1200000  6963       Via Vedo 3        1.0  ...      1.0       8510.64   \n",
       "3  2360000  6963       Via vedo 3        1.0  ...      1.0       9915.97   \n",
       "4   270000  6963      via Ceresio        0.0  ...      0.0       9000.00   \n",
       "\n",
       "   price_cat  area_cat  Ortschaftsname  BfS_Id Kantonskürzel  \\\n",
       "0       high   100-149      Pregassona    5192            TI   \n",
       "1     medium   50 - 99      Pregassona    5192            TI   \n",
       "2     medium   100-149      Pregassona    5192            TI   \n",
       "3       high   100-149      Pregassona    5192            TI   \n",
       "4     medium    0 - 49      Pregassona    5192            TI   \n",
       "\n",
       "  Kantonssteuerfuss Gemeindesteuerfuss  steuersatz_kombiniert  \n",
       "0              97.0               77.0                  174.0  \n",
       "1              97.0               77.0                  174.0  \n",
       "2              97.0               77.0                  174.0  \n",
       "3              97.0               77.0                  174.0  \n",
       "4              97.0               77.0                  174.0  \n",
       "\n",
       "[5 rows x 24 columns]"
      ]
     },
     "execution_count": 11,
     "metadata": {},
     "output_type": "execute_result"
    }
   ],
   "source": [
    "#SQL-Query\n",
    "df_apartments_database = pd.read_sql(\"select * from projectda_database.dataset_homegate_table\", conn)\n",
    "print(df_apartments_database.shape)\n",
    "df_apartments_database.head(5)\n",
    "\n",
    "# Rename variable 'web-scraper-order' to 'apmt_id'\n",
    "df_apartments_database = df_apartments_database.rename(columns={'web-scraper-order': 'id'})\n",
    "\n",
    "# Remove missing values\n",
    "df = df_apartments_database.dropna()\n",
    "df.head(5)\n",
    "\n",
    "# Remove duplicates\n",
    "df = df.drop_duplicates()\n",
    "\n",
    "print(df.shape)\n",
    "df.head(5)\n"
   ]
  },
  {
   "attachments": {},
   "cell_type": "markdown",
   "metadata": {},
   "source": [
    "## Simple linear regression\n",
    "\n",
    "<b>Hypotheses 1:</b>\n",
    "\n",
    "H1: The tax rate influences the purchase price per m2 of apartments and houses. <br>\n",
    "H0: The tax rate does not influence the purchase price per m2 of apartments and houses. \n",
    "\n",
    "\n",
    "We use simple linear regression to investigate the influence of the independent variable \"steuersatz_kombiniert (tax rate)\" on the purchase price per m2 of apartments and houses."
   ]
  },
  {
   "attachments": {},
   "cell_type": "markdown",
   "metadata": {},
   "source": [
    "### Create train and test samples for the simple linear regression\n"
   ]
  },
  {
   "cell_type": "code",
   "execution_count": 12,
   "metadata": {},
   "outputs": [
    {
     "name": "stdout",
     "output_type": "stream",
     "text": [
      "X_train:\n",
      "9723    156.0\n",
      "9722    156.0\n",
      "2369    215.0\n",
      "8539    175.0\n",
      "9666    179.0\n",
      "Name: steuersatz_kombiniert, dtype: float64 \n",
      "\n",
      "y_train:\n",
      "9723     9083.33\n",
      "9722     8961.96\n",
      "2369    11940.35\n",
      "8539    10166.67\n",
      "9666     7155.17\n",
      "Name: price_per_m2, dtype: float64\n"
     ]
    }
   ],
   "source": [
    "# Simple linear regression (only one explanatory variable in the model)\n",
    "# Create train and test samples (train = 80%, test = 20% of the data)\n",
    "# one independent variable \"steuersatz_kombiniert\" and one dependent variable \"price_per_m2\"\n",
    "\n",
    "# Create train and test samples\n",
    "X_train, X_test, y_train, y_test = train_test_split(df['steuersatz_kombiniert'], \n",
    "                                                    df['price_per_m2'], \n",
    "                                                    test_size=0.20, \n",
    "                                                    random_state=42)\n",
    "                                                    \n",
    "# Show X_train\n",
    "print('X_train:')\n",
    "print(X_train.head(), '\\n')\n",
    "\n",
    "# Show y_train\n",
    "print('y_train:')\n",
    "print(y_train.head())"
   ]
  },
  {
   "attachments": {},
   "cell_type": "markdown",
   "metadata": {},
   "source": [
    "### Fit the simple linear regression model "
   ]
  },
  {
   "cell_type": "code",
   "execution_count": 13,
   "metadata": {},
   "outputs": [
    {
     "name": "stdout",
     "output_type": "stream",
     "text": [
      "Linear regression result:\n",
      "Intercept with y-axis (alpha):            9706.79\n",
      "Slope of regression line (beta):          -6.792\n",
      "p-value:                                  0.0000\n",
      "R-squared (coefficient of determination): 0.0135\n"
     ]
    }
   ],
   "source": [
    "# Fit the regression model\n",
    "slope, intercept, r, p, std_err = stats.linregress(X_train, y_train)\n",
    "\n",
    "# Print results of the regression model\n",
    "print('Linear regression result:')\n",
    "print(f'Intercept with y-axis (alpha):            {intercept:.2f}')\n",
    "print(f'Slope of regression line (beta):          {slope:.3f}')\n",
    "print(f'p-value:                                  {p:.4f}')\n",
    "print(f'R-squared (coefficient of determination): {r**2:.4f}')"
   ]
  },
  {
   "attachments": {},
   "cell_type": "markdown",
   "metadata": {},
   "source": [
    "### Interpretation of the linear regression results\n",
    "\n",
    "The p-value of 0.0000 is smaller than <0.05 and signfies that the null hypothesis can be rejected.\n",
    "\n",
    "The larger the R-squared value, the better the prediction ot the y-value (price). In this case, the <b>R-squared is 0.0135</b> . The result could be better."
   ]
  },
  {
   "attachments": {},
   "cell_type": "markdown",
   "metadata": {},
   "source": [
    "### Plot simple Linear Regression"
   ]
  },
  {
   "cell_type": "code",
   "execution_count": 14,
   "metadata": {},
   "outputs": [
    {
     "data": {
      "image/png": "[encoded data removed]",
      "text/plain": [
       "<Figure size 600x400 with 1 Axes>"
      ]
     },
     "metadata": {},
     "output_type": "display_data"
    }
   ],
   "source": [
    "# Function to calculate model predictions\n",
    "def myfunc(x):\n",
    "    return slope * x + intercept\n",
    "\n",
    "# Apply myfunc() to x, i.e. make predictions \n",
    "mymodel = pd.Series(map(myfunc, X_train))\n",
    "\n",
    "# Scatterplot with regression line\n",
    "plt.figure(figsize=(6,4))\n",
    "plt.scatter(X_train, y_train, s=10, color='blue')\n",
    "plt.plot(X_train, mymodel, color='red', linestyle='dashed')\n",
    "plt.title('Simple Linear Regression')\n",
    "plt.xlabel('Steuerfuss kombiniert (%)')\n",
    "plt.ylabel('price_per_m2 (CHF)')\n",
    "\n",
    "plt.show()"
   ]
  },
  {
   "attachments": {},
   "cell_type": "markdown",
   "metadata": {},
   "source": [
    "\n",
    "The blue dots represents each datapoint of our dataset. If we compare the actual to the estimated value, this regression line above shows a lot of errors. The linear is negative so theres a negative relationship between the independent variable x tax rate (the variable we manipulate) and the dependent variable price per m2. "
   ]
  },
  {
   "attachments": {},
   "cell_type": "markdown",
   "metadata": {},
   "source": [
    "### Check model residuals\n",
    "What is the first predicted value and the first observed value in the dataset? Subtracting these values gives us the residual value.  But what is a residual? A residual is a measure of how far away a point is vertically from the regression line. Simply, it is the error between a predicted value and the observed actual value.\n"
   ]
  },
  {
   "cell_type": "code",
   "execution_count": 18,
   "metadata": {},
   "outputs": [
    {
     "name": "stdout",
     "output_type": "stream",
     "text": [
      "1st Predicted price in dataset: 8647.30\n",
      "1st Observed price in dataset: 9083.33\n",
      "1st Residual price in dataset: -436.03\n"
     ]
    }
   ],
   "source": [
    "# Calculate residuals (here: predicted prices minus observed prices)\n",
    "\n",
    "# ! first remove .iloc[i] run it, after add .iloc[i] and run it again to get the residuals\n",
    "residuals = mymodel - y_train.iloc[i] \n",
    "\n",
    "# Check the first residual value in our dataset\n",
    "\n",
    "print(f'1st Predicted price in dataset: {mymodel[0]:.2f}')\n",
    "\n",
    "for i in range(0,1):\n",
    "    print(f'1st Observed price in dataset: {y_train.iloc[i]:.2f}')\n",
    "\n",
    "\n",
    "print(f'1st Residual price in dataset: {residuals[0]:.2f}')\n",
    "\n",
    "\n"
   ]
  },
  {
   "attachments": {},
   "cell_type": "markdown",
   "metadata": {},
   "source": [
    "### Plot histogram of residuals\n",
    "\n",
    "We use the residual value to check if the model assumptions are met."
   ]
  },
  {
   "cell_type": "code",
   "execution_count": 29,
   "metadata": {},
   "outputs": [
    {
     "data": {
      "image/png": "[encoded data removed]",
      "text/plain": [
       "<Figure size 800x400 with 1 Axes>"
      ]
     },
     "metadata": {},
     "output_type": "display_data"
    }
   ],
   "source": [
    "# Plot histogram of residuals (Steuersatz_kombiniert -> price_per_m2)\n",
    "fig = plt.figure( figsize=(8,4))\n",
    "n, bins, patches = plt.hist(x=residuals, \n",
    "                            bins=30, \n",
    "                            color='red',\n",
    "                            alpha=0.5\n",
    "                   )\n",
    "\n",
    "# Set title and labels\n",
    "plt.xlabel('residuals', fontsize=10, labelpad=10)\n",
    "plt.ylabel('frequency', fontsize=10, labelpad=10)\n",
    "plt.title('Histogram of model residuals', fontsize=12, pad=10)\n",
    "\n",
    "# Add text annotation\n",
    "plt.text(-3100, 70, s=\"\",  \n",
    "         fontsize=11, \n",
    "         color=\"black\")\n",
    "\n",
    "# Show plot\n",
    "plt.show()"
   ]
  },
  {
   "attachments": {},
   "cell_type": "markdown",
   "metadata": {},
   "source": [
    "The residuals tend to be on the right side. For us to assume that the assumptions are correct, the values would have to lay around 0 and be bell shaped. Also the model has a lot of outliners and a gap."
   ]
  },
  {
   "attachments": {},
   "cell_type": "markdown",
   "metadata": {},
   "source": [
    "### Compare the predicted prices with the observed prices in our test sample"
   ]
  },
  {
   "cell_type": "code",
   "execution_count": 31,
   "metadata": {},
   "outputs": [
    {
     "name": "stdout",
     "output_type": "stream",
     "text": [
      "Predicted price: 8212.6, Observed price: 5056.8\n",
      "Predicted price: 8887.0, Observed price: 3343.0\n",
      "Predicted price: 8402.8, Observed price: 3310.8\n",
      "Predicted price: 9027.6, Observed price: 10000.0\n",
      "Predicted price: 8246.6, Observed price: 7253.3\n",
      "Predicted price: 8287.3, Observed price: 6415.1\n",
      "Predicted price: 8368.8, Observed price: 2241.4\n",
      "Predicted price: 7295.8, Observed price: 8383.8\n",
      "Predicted price: 6395.9, Observed price: 3611.1\n",
      "Predicted price: 8416.4, Observed price: 6470.6\n"
     ]
    }
   ],
   "source": [
    "# Create model predictions for test data\n",
    "predicted = myfunc(X_test)\n",
    "predicted.round(1)\n",
    "\n",
    "# Compare predicted with observed price_per_m2 based on first 10 test samples\n",
    "for i in range(0,10):\n",
    "    print(f'Predicted price: {predicted.iloc[i]:.1f}, Observed price: {y_test.iloc[i]:.1f}')"
   ]
  },
  {
   "attachments": {},
   "cell_type": "markdown",
   "metadata": {},
   "source": [
    "### Multiple linear regression \n",
    "\n",
    "If two independent variables are used (area and tax rate), how is the purchase price per m2 affected?\n",
    "\n",
    "<b> Hypotheses 2: </b>\n",
    "\n",
    "H1: The tax rate and the number of square meters influence the purchase price per m2 of apartments and houses. <br>\n",
    "H0: The tax rate and the number of square meters do not influence the purchase price per m2 of apartments and houses."
   ]
  },
  {
   "cell_type": "code",
   "execution_count": 32,
   "metadata": {},
   "outputs": [
    {
     "name": "stdout",
     "output_type": "stream",
     "text": [
      "X2_train:\n",
      "      area  steuersatz_kombiniert\n",
      "9723    60                  156.0\n",
      "9722   184                  156.0\n",
      "2369   171                  215.0\n",
      "8539   150                  175.0\n",
      "9666   116                  179.0 \n",
      "\n",
      "y2_train:\n",
      "9723     9083.33\n",
      "9722     8961.96\n",
      "2369    11940.35\n",
      "8539    10166.67\n",
      "9666     7155.17\n",
      "Name: price_per_m2, dtype: float64\n"
     ]
    }
   ],
   "source": [
    "#Multiple linear regression (more than one explanatory variable in the model)\n",
    "\n",
    "# Create train and test samples \n",
    "X2_train, X2_test, y2_train, y2_test = train_test_split(df[['area',\n",
    "                                                            'steuersatz_kombiniert']], \n",
    "                                                        df['price_per_m2'], \n",
    "                                                        test_size=0.20, \n",
    "                                                        random_state=42)\n",
    "\n",
    "# Show X2_train\n",
    "print('X2_train:')\n",
    "print(X2_train.head(), '\\n')\n",
    "\n",
    "# Show y2_train\n",
    "print('y2_train:')\n",
    "print(y2_train.head())"
   ]
  },
  {
   "attachments": {},
   "cell_type": "markdown",
   "metadata": {},
   "source": [
    "### Fit the multiple regression model "
   ]
  },
  {
   "cell_type": "code",
   "execution_count": 33,
   "metadata": {},
   "outputs": [
    {
     "name": "stdout",
     "output_type": "stream",
     "text": [
      "                            OLS Regression Results                            \n",
      "==============================================================================\n",
      "Dep. Variable:           price_per_m2   R-squared:                       0.018\n",
      "Model:                            OLS   Adj. R-squared:                  0.017\n",
      "Method:                 Least Squares   F-statistic:                     80.75\n",
      "Date:                Sat, 14 Jan 2023   Prob (F-statistic):           1.74e-35\n",
      "Time:                        15:05:54   Log-Likelihood:                -88644.\n",
      "No. Observations:                9020   AIC:                         1.773e+05\n",
      "Df Residuals:                    9017   BIC:                         1.773e+05\n",
      "Df Model:                           2                                         \n",
      "Covariance Type:            nonrobust                                         \n",
      "=========================================================================================\n",
      "                            coef    std err          t      P>|t|      [0.025      0.975]\n",
      "-----------------------------------------------------------------------------------------\n",
      "const                  9279.5509    158.169     58.669      0.000    8969.504    9589.598\n",
      "area                      2.3661      0.385      6.140      0.000       1.611       3.122\n",
      "steuersatz_kombiniert    -6.6269      0.611    -10.847      0.000      -7.824      -5.429\n",
      "==============================================================================\n",
      "Omnibus:                     5072.765   Durbin-Watson:                   2.006\n",
      "Prob(Omnibus):                  0.000   Jarque-Bera (JB):            86694.218\n",
      "Skew:                           2.337   Prob(JB):                         0.00\n",
      "Kurtosis:                      17.451   Cond. No.                         974.\n",
      "==============================================================================\n",
      "\n",
      "Notes:\n",
      "[1] Standard Errors assume that the covariance matrix of the errors is correctly specified.\n"
     ]
    }
   ],
   "source": [
    "# Add constant to the model\n",
    "X2_train_const = sm.add_constant(X2_train)\n",
    "\n",
    "# Create the multiple regression model\n",
    "olsmod = sm.OLS(y_train, X2_train_const)\n",
    "olsres = olsmod.fit()\n",
    "\n",
    "# Print full model output\n",
    "print(olsres.summary())"
   ]
  },
  {
   "attachments": {},
   "cell_type": "markdown",
   "metadata": {},
   "source": [
    "### Interpretation of the OLS regression results above\n",
    "\n",
    "R-squared: A value of 0.018 means, that the explanatory variables explain 2% of the variation of our target variable (purchase price per m2 of apartments and houses).\n",
    "\n",
    "\n",
    "coef: These are the estimated coefficients of the explanatory variables ('slopes of the regression line' of each variable). These are needed for the price predictions in our model.\n",
    "\n",
    "P>|t|: These are the p-values. If < 0.05, the explanatory variables shows a statistically siginificant (5% significance level) contribution in explaining the target variable. In this case, all variables are significant here and the null hypothesis can be rejected.\n"
   ]
  },
  {
   "attachments": {},
   "cell_type": "markdown",
   "metadata": {},
   "source": [
    "### Histogram of model residuals - multiple linear regression"
   ]
  },
  {
   "cell_type": "code",
   "execution_count": 43,
   "metadata": {},
   "outputs": [
    {
     "data": {
      "image/png": "[encoded data removed]",
      "text/plain": [
       "<Figure size 800x400 with 1 Axes>"
      ]
     },
     "metadata": {},
     "output_type": "display_data"
    }
   ],
   "source": [
    "# Plot histogram of residuals\n",
    "fig = plt.figure( figsize=(8,4))\n",
    "n, bins, patches = plt.hist(x=olsres.resid, \n",
    "                            bins=30, \n",
    "                            color='green',\n",
    "                            alpha=0.5\n",
    "                   )\n",
    "\n",
    "# Set labels\n",
    "plt.xlabel('residuals', fontsize=10, labelpad=10)\n",
    "plt.ylabel('frequency', fontsize=10, labelpad=10)\n",
    "plt.title('Histogram of model residuals', fontsize=12, pad=10)\n",
    "\n",
    "# Add text annotation\n",
    "plt.text(-2000, 140, s=\"The histogram shows that the values are normal distributed.\", fontsize=10, color=\"black\")\n",
    "\n",
    "plt.show()"
   ]
  },
  {
   "attachments": {},
   "cell_type": "markdown",
   "metadata": {},
   "source": [
    "The model is symmetric bell-shaped which is evenly distributed around zero, that indicates that the model is normal distirbuted."
   ]
  },
  {
   "attachments": {},
   "cell_type": "markdown",
   "metadata": {},
   "source": [
    "### Compare the predicted prices with the observed prices in the test sample"
   ]
  },
  {
   "cell_type": "code",
   "execution_count": 36,
   "metadata": {},
   "outputs": [
    {
     "name": "stdout",
     "output_type": "stream",
     "text": [
      "Predicted price: 8029.9, Observed price: 5056.8\n",
      "Predicted price: 8886.7, Observed price: 3343.0\n",
      "Predicted price: 8182.3, Observed price: 3310.8\n",
      "Predicted price: 8747.0, Observed price: 10000.0\n",
      "Predicted price: 8032.2, Observed price: 7253.3\n",
      "Predicted price: 8145.3, Observed price: 6415.1\n",
      "Predicted price: 8179.9, Observed price: 2241.4\n",
      "Predicted price: 7161.3, Observed price: 8383.8\n",
      "Predicted price: 6261.9, Observed price: 3611.1\n",
      "Predicted price: 8221.6, Observed price: 6470.6\n"
     ]
    }
   ],
   "source": [
    "# Add constant to X_test\n",
    "X2_test_const = sm.add_constant(X2_test)\n",
    "predicted_new = olsres.predict(X2_test_const)\n",
    "\n",
    "# Compare predicted with observed price_per_m2 based on first 10 test samples\n",
    "for i in range(0,10):\n",
    "    print(f'Predicted price: {predicted_new.iloc[i]:.1f}, Observed price: {y_test.iloc[i]:.1f}')"
   ]
  },
  {
   "attachments": {},
   "cell_type": "markdown",
   "metadata": {},
   "source": [
    "## Regression tree\n",
    "\n",
    "A regression tree is basically a decision tree. We use it to predict potentials outcomes. Our target variable is \"price_per_m2\"."
   ]
  },
  {
   "cell_type": "markdown",
   "metadata": {},
   "source": [
    "### Create train and test samples for the regression tree (train = 80%, test = 20% of the data)"
   ]
  },
  {
   "cell_type": "code",
   "execution_count": 37,
   "metadata": {},
   "outputs": [
    {
     "name": "stdout",
     "output_type": "stream",
     "text": [
      "X3_train:\n",
      "      area  rooms  central   PLZ  steuersatz_kombiniert\n",
      "9723    60    2.5      0.0  4147                  156.0\n",
      "9722   184    6.5      1.0  4147                  156.0\n",
      "2369   171    4.5      1.0  3963                  215.0\n",
      "8539   150    5.5      0.0  6645                  175.0\n",
      "9666   116    4.5      0.0  6982                  179.0 \n",
      "\n",
      "y3_train:\n",
      "9723     9083.33\n",
      "9722     8961.96\n",
      "2369    11940.35\n",
      "8539    10166.67\n",
      "9666     7155.17\n",
      "Name: price_per_m2, dtype: float64\n"
     ]
    }
   ],
   "source": [
    "# Create train and test samples\n",
    "X3_train, X3_test, y3_train, y3_test = train_test_split(df[['area', \n",
    "                                                        'rooms',\n",
    "                                                        'central',\n",
    "                                                        'PLZ',\n",
    "                                                        'steuersatz_kombiniert']], \n",
    "                                                        df['price_per_m2'], \n",
    "                                                        test_size=0.20, \n",
    "                                                        random_state=42)\n",
    "\n",
    "# Show X_train\n",
    "print('X3_train:')\n",
    "print(X3_train.head(), '\\n')\n",
    "\n",
    "# Show y_train\n",
    "print('y3_train:')\n",
    "print(y3_train.head())"
   ]
  },
  {
   "cell_type": "code",
   "execution_count": 48,
   "metadata": {},
   "outputs": [],
   "source": [
    "# Create decision tree regressor object\n",
    "reg = DecisionTreeRegressor(random_state=20, max_depth=4)\n",
    "\n",
    "# Train decision tree regressor\n",
    "reg = reg.fit(X3_train, y3_train)\n",
    "\n",
    "# Predict the response for test dataset\n",
    "y3_pred = reg.predict(X3_test)"
   ]
  },
  {
   "cell_type": "markdown",
   "metadata": {},
   "source": [
    "### Calculate coefficient of determination (R-squared)\n"
   ]
  },
  {
   "cell_type": "code",
   "execution_count": 49,
   "metadata": {},
   "outputs": [
    {
     "name": "stdout",
     "output_type": "stream",
     "text": [
      "R-squared: 0.2551\n"
     ]
    }
   ],
   "source": [
    "# Calculate coefficient of determination\n",
    "print('R-squared:', r2_score(y3_test, y3_pred).round(4))"
   ]
  },
  {
   "attachments": {},
   "cell_type": "markdown",
   "metadata": {},
   "source": [
    "### R-square of the regression tree\n",
    "\n",
    "The value 0.2551 shows a relatively low prediction and could be better.\n"
   ]
  },
  {
   "cell_type": "markdown",
   "metadata": {},
   "source": [
    "### Print text representation of the regression tree\n"
   ]
  },
  {
   "cell_type": "code",
   "execution_count": 50,
   "metadata": {},
   "outputs": [
    {
     "name": "stdout",
     "output_type": "stream",
     "text": [
      "|--- PLZ <= 1301.00\n",
      "|   |--- steuersatz_kombiniert <= 193.25\n",
      "|   |   |--- steuersatz_kombiniert <= 175.50\n",
      "|   |   |   |--- area <= 257.50\n",
      "|   |   |   |   |--- value: [16700.46]\n",
      "|   |   |   |--- area >  257.50\n",
      "|   |   |   |   |--- value: [25641.72]\n",
      "|   |   |--- steuersatz_kombiniert >  175.50\n",
      "|   |   |   |--- PLZ <= 1208.50\n",
      "|   |   |   |   |--- value: [17222.33]\n",
      "|   |   |   |--- PLZ >  1208.50\n",
      "|   |   |   |   |--- value: [13577.92]\n",
      "|   |--- steuersatz_kombiniert >  193.25\n",
      "|   |   |--- PLZ <= 1290.50\n",
      "|   |   |   |--- steuersatz_kombiniert <= 222.75\n",
      "|   |   |   |   |--- value: [11403.43]\n",
      "|   |   |   |--- steuersatz_kombiniert >  222.75\n",
      "|   |   |   |   |--- value: [9510.48]\n",
      "|   |   |--- PLZ >  1290.50\n",
      "|   |   |   |--- rooms <= 11.00\n",
      "|   |   |   |   |--- value: [15861.55]\n",
      "|   |   |   |--- rooms >  11.00\n",
      "|   |   |   |   |--- value: [46631.65]\n",
      "|--- PLZ >  1301.00\n",
      "|   |--- PLZ <= 6891.50\n",
      "|   |   |--- PLZ <= 6650.00\n",
      "|   |   |   |--- PLZ <= 3636.00\n",
      "|   |   |   |   |--- value: [6633.19]\n",
      "|   |   |   |--- PLZ >  3636.00\n",
      "|   |   |   |   |--- value: [8350.69]\n",
      "|   |   |--- PLZ >  6650.00\n",
      "|   |   |   |--- steuersatz_kombiniert <= 174.50\n",
      "|   |   |   |   |--- value: [7090.36]\n",
      "|   |   |   |--- steuersatz_kombiniert >  174.50\n",
      "|   |   |   |   |--- value: [4485.85]\n",
      "|   |--- PLZ >  6891.50\n",
      "|   |   |--- steuersatz_kombiniert <= 222.50\n",
      "|   |   |   |--- PLZ <= 7015.00\n",
      "|   |   |   |   |--- value: [8489.94]\n",
      "|   |   |   |--- PLZ >  7015.00\n",
      "|   |   |   |   |--- value: [10342.13]\n",
      "|   |   |--- steuersatz_kombiniert >  222.50\n",
      "|   |   |   |--- PLZ <= 9055.50\n",
      "|   |   |   |   |--- value: [7446.34]\n",
      "|   |   |   |--- PLZ >  9055.50\n",
      "|   |   |   |   |--- value: [6401.70]\n",
      "\n"
     ]
    }
   ],
   "source": [
    "# Text representation of the regression tree\n",
    "text_representation = tree.export_text(reg, \n",
    "                                       feature_names=list(X3_train.columns))\n",
    "\n",
    "# Print text_representation\n",
    "print(text_representation)"
   ]
  },
  {
   "cell_type": "markdown",
   "metadata": {},
   "source": [
    "### Vizualizing the regression tree"
   ]
  },
  {
   "cell_type": "code",
   "execution_count": 51,
   "metadata": {},
   "outputs": [
    {
     "data": {
      "image/png": "[encoded data removed]",
      "text/plain": [
       "<Figure size 1200x600 with 1 Axes>"
      ]
     },
     "metadata": {},
     "output_type": "display_data"
    }
   ],
   "source": [
    "fig = plt.figure(figsize=(12,6))\n",
    "_ = tree.plot_tree(reg, \n",
    "                   feature_names=list(X3_train.columns),  \n",
    "                   class_names=['price_per_m2'],\n",
    "                   filled=True,\n",
    "                   fontsize=9,\n",
    "                   label='root',\n",
    "                   rounded=True)"
   ]
  },
  {
   "attachments": {},
   "cell_type": "markdown",
   "metadata": {},
   "source": [
    "### Random Forest Regression\n",
    "\n",
    "The random forest regression helps to reduce overfitting and is suitable because we use a large dataset."
   ]
  },
  {
   "cell_type": "code",
   "execution_count": 52,
   "metadata": {},
   "outputs": [
    {
     "name": "stdout",
     "output_type": "stream",
     "text": [
      "X4_train:\n",
      "      area  rooms  central   PLZ  steuersatz_kombiniert\n",
      "9723    60    2.5      0.0  4147                  156.0\n",
      "9722   184    6.5      1.0  4147                  156.0\n",
      "2369   171    4.5      1.0  3963                  215.0\n",
      "8539   150    5.5      0.0  6645                  175.0\n",
      "9666   116    4.5      0.0  6982                  179.0 \n",
      "\n",
      "y4_train:\n",
      "9723     9083.33\n",
      "9722     8961.96\n",
      "2369    11940.35\n",
      "8539    10166.67\n",
      "9666     7155.17\n",
      "Name: price_per_m2, dtype: float64\n"
     ]
    }
   ],
   "source": [
    "# Create train and test samples \n",
    "X4_train, X4_test, y4_train, y4_test = train_test_split(df[[\n",
    "                                                            'area',\n",
    "                                                            'rooms',\n",
    "                                                            'central',\n",
    "                                                            'PLZ',\n",
    "                                                            'steuersatz_kombiniert']], \n",
    "                                                            df['price_per_m2'], \n",
    "                                                            test_size=0.20, \n",
    "                                                            random_state=42)\n",
    "\n",
    "# Show X4_train\n",
    "print('X4_train:')\n",
    "print(X4_train.head(), '\\n')\n",
    "\n",
    "# Show y4_train\n",
    "print('y4_train:')\n",
    "print(y4_train.head())"
   ]
  },
  {
   "cell_type": "markdown",
   "metadata": {},
   "source": [
    "### Fit the Random Forest Regression"
   ]
  },
  {
   "cell_type": "code",
   "execution_count": 53,
   "metadata": {},
   "outputs": [
    {
     "name": "stdout",
     "output_type": "stream",
     "text": [
      "R-squared: 0.5412\n"
     ]
    }
   ],
   "source": [
    "X, y = make_regression(n_features=4, n_informative=2,\n",
    "                       random_state=5, shuffle=False)\n",
    "\n",
    "\n",
    "reg_rf = RandomForestRegressor(n_estimators=500, \n",
    "                               max_depth=10, \n",
    "                               random_state=5)\n",
    "reg_rf.fit(X4_train, y4_train)\n",
    "\n",
    "# Calculate coefficient of determination (R-squared)\n",
    "print('R-squared:', reg_rf.score(X4_test, y4_test).round(4))"
   ]
  },
  {
   "attachments": {},
   "cell_type": "markdown",
   "metadata": {},
   "source": [
    "#### Interpretation of R-squared \n",
    "\n",
    "The R-squared value is 0.5412. This means that the prediction is good but it could be better. The closer the value is to 1, the more accurate the prediction."
   ]
  },
  {
   "attachments": {},
   "cell_type": "markdown",
   "metadata": {},
   "source": [
    "### Show feature importance\n",
    "\n",
    "Which features (= explanatory variables) are particulary important?\n",
    "\n",
    "Looking at the barchart below shows that the postal code is the most important feature. In contrast, the characteristic \"central\" is the least important. The feature tax rate is slightly more important than the number of square meters."
   ]
  },
  {
   "cell_type": "code",
   "execution_count": 54,
   "metadata": {},
   "outputs": [
    {
     "name": "stdout",
     "output_type": "stream",
     "text": [
      "Index(['PLZ', 'steuersatz_kombiniert', 'area', 'rooms', 'central'], dtype='object')\n",
      "[0.57429207 0.19126761 0.1476682  0.0775855  0.00918662]\n"
     ]
    },
    {
     "data": {
      "text/plain": [
       "<AxesSubplot: ylabel='features'>"
      ]
     },
     "execution_count": 54,
     "metadata": {},
     "output_type": "execute_result"
    },
    {
     "data": {
      "image/png": "[encoded data removed]",
      "text/plain": [
       "<Figure size 600x300 with 1 Axes>"
      ]
     },
     "metadata": {},
     "output_type": "display_data"
    }
   ],
   "source": [
    "cols = X4_train.columns\n",
    "\n",
    "# Derive feature importance from random forest\n",
    "importances = reg_rf.feature_importances_\n",
    "std         = np.std([tree.feature_importances_ for tree in reg_rf.estimators_], axis=0)\n",
    "indices     = np.argsort(importances)[::-1]\n",
    "\n",
    "# Print col-names and importances-values\n",
    "print( cols[indices] )\n",
    "print( importances[indices] )\n",
    "\n",
    "# Barplot with feature importance\n",
    "df_fi = pd.DataFrame({'features':cols,'importances': importances})\n",
    "df_fi.sort_values('importances', inplace=True)\n",
    "df_fi.plot(kind='barh', \n",
    "           y='importances', \n",
    "           x='features', \n",
    "           color='purple', \n",
    "           figsize=(6,3))"
   ]
  }
 ],
 "metadata": {
  "kernelspec": {
   "display_name": "Python 3",
   "language": "python",
   "name": "python3"
  },
  "language_info": {
   "codemirror_mode": {
    "name": "ipython",
    "version": 3
   },
   "file_extension": ".py",
   "mimetype": "text/x-python",
   "name": "python",
   "nbconvert_exporter": "python",
   "pygments_lexer": "ipython3",
   "version": "3.10.4 (tags/v3.10.4:9d38120, Mar 23 2022, 23:13:41) [MSC v.1929 64 bit (AMD64)]"
  },
  "orig_nbformat": 4,
  "vscode": {
   "interpreter": {
    "hash": "eabca979b0553fa6d87e9a00c352604d3b703d4afc9641643dd42376492b80f6"
   }
  }
 },
 "nbformat": 4,
 "nbformat_minor": 2
}
