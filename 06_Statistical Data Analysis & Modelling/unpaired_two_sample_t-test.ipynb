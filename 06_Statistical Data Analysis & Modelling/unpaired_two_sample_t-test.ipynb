{
 "cells": [
  {
   "cell_type": "markdown",
   "id": "63a64c4b",
   "metadata": {},
   "source": [
    "# Unpaired two-sample t-test"
   ]
  },
  {
   "cell_type": "markdown",
   "id": "5c34b58a",
   "metadata": {},
   "source": [
    "## Libraries and settings"
   ]
  },
  {
   "cell_type": "code",
   "execution_count": 2,
   "id": "c1300e34",
   "metadata": {},
   "outputs": [],
   "source": [
    "# Libraries\n",
    "import pandas as pd\n",
    "import matplotlib.pyplot as plt\n",
    "import seaborn as sns\n",
    "import numpy as np\n",
    "from scipy import stats\n",
    "\n",
    "# Settings for seaborn\n",
    "sns.set_theme(style=\"ticks\", palette=\"pastel\")\n",
    "\n",
    "# Ignore warnings\n",
    "import warnings\n",
    "warnings.filterwarnings(\"ignore\")"
   ]
  },
  {
   "cell_type": "markdown",
   "id": "e1e96aa1",
   "metadata": {},
   "source": [
    "## Read appartment and house data"
   ]
  },
  {
   "cell_type": "code",
   "execution_count": 3,
   "id": "68403471",
   "metadata": {},
   "outputs": [
    {
     "name": "stdout",
     "output_type": "stream",
     "text": [
      "Wohnung    6214\n",
      "Haus       5088\n",
      "Name: type, dtype: int64\n"
     ]
    },
    {
     "data": {
      "text/html": [
       "<div>\n",
       "<style scoped>\n",
       "    .dataframe tbody tr th:only-of-type {\n",
       "        vertical-align: middle;\n",
       "    }\n",
       "\n",
       "    .dataframe tbody tr th {\n",
       "        vertical-align: top;\n",
       "    }\n",
       "\n",
       "    .dataframe thead th {\n",
       "        text-align: right;\n",
       "    }\n",
       "</style>\n",
       "<table border=\"1\" class=\"dataframe\">\n",
       "  <thead>\n",
       "    <tr style=\"text-align: right;\">\n",
       "      <th></th>\n",
       "      <th>web-scraper-order</th>\n",
       "      <th>web-scraper-start-url</th>\n",
       "      <th>price_raw</th>\n",
       "      <th>qubic_meter_raw</th>\n",
       "      <th>rooms_raw</th>\n",
       "      <th>full_address</th>\n",
       "      <th>description</th>\n",
       "      <th>type</th>\n",
       "      <th>rooms</th>\n",
       "      <th>area</th>\n",
       "      <th>...</th>\n",
       "      <th>central</th>\n",
       "      <th>price_per_m2</th>\n",
       "      <th>price_cat</th>\n",
       "      <th>area_cat</th>\n",
       "      <th>Ortschaftsname</th>\n",
       "      <th>BfS_Id</th>\n",
       "      <th>Kantonskürzel</th>\n",
       "      <th>Kantonssteuerfuss</th>\n",
       "      <th>Gemeindesteuerfuss</th>\n",
       "      <th>steuersatz_kombiniert</th>\n",
       "    </tr>\n",
       "  </thead>\n",
       "  <tbody>\n",
       "    <tr>\n",
       "      <th>0</th>\n",
       "      <td>1672673926-34302</td>\n",
       "      <td>https://www.homegate.ch/kaufen/wohnung/land-sc...</td>\n",
       "      <td>1’000’000.–</td>\n",
       "      <td>110m2</td>\n",
       "      <td>3.5Zi</td>\n",
       "      <td>6963 Pregassona</td>\n",
       "      <td>IN ZONA RESIDENZIALE TRANQUILLA E SOLEGGIATA P...</td>\n",
       "      <td>Wohnung</td>\n",
       "      <td>3.5</td>\n",
       "      <td>110</td>\n",
       "      <td>...</td>\n",
       "      <td>0.0</td>\n",
       "      <td>9090.91</td>\n",
       "      <td>high</td>\n",
       "      <td>100-149</td>\n",
       "      <td>Pregassona</td>\n",
       "      <td>5192</td>\n",
       "      <td>TI</td>\n",
       "      <td>97.0</td>\n",
       "      <td>77.0</td>\n",
       "      <td>174.0</td>\n",
       "    </tr>\n",
       "    <tr>\n",
       "      <th>1</th>\n",
       "      <td>1672673926-34301</td>\n",
       "      <td>https://www.homegate.ch/kaufen/wohnung/land-sc...</td>\n",
       "      <td>500’000.–</td>\n",
       "      <td>80m2</td>\n",
       "      <td>3.5Zi</td>\n",
       "      <td>Via Ceresio 39A, 6963 Pregassona</td>\n",
       "      <td>A PREGASSONA, PROPONIAMO IN VENDITA UN LUMINOS...</td>\n",
       "      <td>Wohnung</td>\n",
       "      <td>3.5</td>\n",
       "      <td>80</td>\n",
       "      <td>...</td>\n",
       "      <td>0.0</td>\n",
       "      <td>6250.00</td>\n",
       "      <td>medium</td>\n",
       "      <td>50 - 99</td>\n",
       "      <td>Pregassona</td>\n",
       "      <td>5192</td>\n",
       "      <td>TI</td>\n",
       "      <td>97.0</td>\n",
       "      <td>77.0</td>\n",
       "      <td>174.0</td>\n",
       "    </tr>\n",
       "    <tr>\n",
       "      <th>2</th>\n",
       "      <td>1672673272-29951</td>\n",
       "      <td>https://www.homegate.ch/kaufen/wohnung/land-sc...</td>\n",
       "      <td>1’200’000.–</td>\n",
       "      <td>141m2</td>\n",
       "      <td>4.5Zi</td>\n",
       "      <td>Via Vedo 3, 6963 Cureggia</td>\n",
       "      <td>RESIDENZE GOLD &amp; SILVER, 2 PALAZZINE OGNUNA CO...</td>\n",
       "      <td>Wohnung</td>\n",
       "      <td>4.5</td>\n",
       "      <td>141</td>\n",
       "      <td>...</td>\n",
       "      <td>1.0</td>\n",
       "      <td>8510.64</td>\n",
       "      <td>medium</td>\n",
       "      <td>100-149</td>\n",
       "      <td>Pregassona</td>\n",
       "      <td>5192</td>\n",
       "      <td>TI</td>\n",
       "      <td>97.0</td>\n",
       "      <td>77.0</td>\n",
       "      <td>174.0</td>\n",
       "    </tr>\n",
       "    <tr>\n",
       "      <th>3</th>\n",
       "      <td>1672673272-29952</td>\n",
       "      <td>https://www.homegate.ch/kaufen/wohnung/land-sc...</td>\n",
       "      <td>2’360’000.–</td>\n",
       "      <td>238m2</td>\n",
       "      <td>4.5Zi</td>\n",
       "      <td>Via vedo 3, 6963 Cureggia</td>\n",
       "      <td>RESIDENZE GOLD &amp; SILVER, 2 PALAZZINE OGNUNA CO...</td>\n",
       "      <td>Wohnung</td>\n",
       "      <td>4.5</td>\n",
       "      <td>238</td>\n",
       "      <td>...</td>\n",
       "      <td>1.0</td>\n",
       "      <td>9915.97</td>\n",
       "      <td>high</td>\n",
       "      <td>100-149</td>\n",
       "      <td>Pregassona</td>\n",
       "      <td>5192</td>\n",
       "      <td>TI</td>\n",
       "      <td>97.0</td>\n",
       "      <td>77.0</td>\n",
       "      <td>174.0</td>\n",
       "    </tr>\n",
       "    <tr>\n",
       "      <th>4</th>\n",
       "      <td>1672673816-33571</td>\n",
       "      <td>https://www.homegate.ch/kaufen/wohnung/land-sc...</td>\n",
       "      <td>270’000.–</td>\n",
       "      <td>30m2</td>\n",
       "      <td>1Zi</td>\n",
       "      <td>via Ceresio, 6963 Pregassona</td>\n",
       "      <td>A PREGASSONA COMODISSIMO MONOLOCALE AL SECONDO...</td>\n",
       "      <td>Wohnung</td>\n",
       "      <td>1.0</td>\n",
       "      <td>30</td>\n",
       "      <td>...</td>\n",
       "      <td>0.0</td>\n",
       "      <td>9000.00</td>\n",
       "      <td>medium</td>\n",
       "      <td>0 - 49</td>\n",
       "      <td>Pregassona</td>\n",
       "      <td>5192</td>\n",
       "      <td>TI</td>\n",
       "      <td>97.0</td>\n",
       "      <td>77.0</td>\n",
       "      <td>174.0</td>\n",
       "    </tr>\n",
       "  </tbody>\n",
       "</table>\n",
       "<p>5 rows × 29 columns</p>\n",
       "</div>"
      ],
      "text/plain": [
       "  web-scraper-order                              web-scraper-start-url  \\\n",
       "0  1672673926-34302  https://www.homegate.ch/kaufen/wohnung/land-sc...   \n",
       "1  1672673926-34301  https://www.homegate.ch/kaufen/wohnung/land-sc...   \n",
       "2  1672673272-29951  https://www.homegate.ch/kaufen/wohnung/land-sc...   \n",
       "3  1672673272-29952  https://www.homegate.ch/kaufen/wohnung/land-sc...   \n",
       "4  1672673816-33571  https://www.homegate.ch/kaufen/wohnung/land-sc...   \n",
       "\n",
       "     price_raw qubic_meter_raw rooms_raw                      full_address  \\\n",
       "0  1’000’000.–           110m2     3.5Zi                   6963 Pregassona   \n",
       "1    500’000.–            80m2     3.5Zi  Via Ceresio 39A, 6963 Pregassona   \n",
       "2  1’200’000.–           141m2     4.5Zi         Via Vedo 3, 6963 Cureggia   \n",
       "3  2’360’000.–           238m2     4.5Zi         Via vedo 3, 6963 Cureggia   \n",
       "4    270’000.–            30m2       1Zi      via Ceresio, 6963 Pregassona   \n",
       "\n",
       "                                         description     type  rooms  area  \\\n",
       "0  IN ZONA RESIDENZIALE TRANQUILLA E SOLEGGIATA P...  Wohnung    3.5   110   \n",
       "1  A PREGASSONA, PROPONIAMO IN VENDITA UN LUMINOS...  Wohnung    3.5    80   \n",
       "2  RESIDENZE GOLD & SILVER, 2 PALAZZINE OGNUNA CO...  Wohnung    4.5   141   \n",
       "3  RESIDENZE GOLD & SILVER, 2 PALAZZINE OGNUNA CO...  Wohnung    4.5   238   \n",
       "4  A PREGASSONA COMODISSIMO MONOLOCALE AL SECONDO...  Wohnung    1.0    30   \n",
       "\n",
       "   ...  central  price_per_m2 price_cat  area_cat  Ortschaftsname  BfS_Id  \\\n",
       "0  ...      0.0       9090.91      high   100-149      Pregassona    5192   \n",
       "1  ...      0.0       6250.00    medium   50 - 99      Pregassona    5192   \n",
       "2  ...      1.0       8510.64    medium   100-149      Pregassona    5192   \n",
       "3  ...      1.0       9915.97      high   100-149      Pregassona    5192   \n",
       "4  ...      0.0       9000.00    medium    0 - 49      Pregassona    5192   \n",
       "\n",
       "   Kantonskürzel  Kantonssteuerfuss  Gemeindesteuerfuss  steuersatz_kombiniert  \n",
       "0             TI               97.0                77.0                  174.0  \n",
       "1             TI               97.0                77.0                  174.0  \n",
       "2             TI               97.0                77.0                  174.0  \n",
       "3             TI               97.0                77.0                  174.0  \n",
       "4             TI               97.0                77.0                  174.0  \n",
       "\n",
       "[5 rows x 29 columns]"
      ]
     },
     "execution_count": 3,
     "metadata": {},
     "output_type": "execute_result"
    }
   ],
   "source": [
    "df = pd.read_csv('../04_Preparing & Storing Data/dataset_homegate_enriched.csv', sep=',', encoding='utf-8')\n",
    "df = df.drop('Unnamed: 0', axis=1)\n",
    "\n",
    "# Show categories of 'Type'\n",
    "print(df['type'].value_counts())\n",
    "\n",
    "# Show first rows in dataframe\n",
    "df.head()"
   ]
  },
  {
   "cell_type": "markdown",
   "id": "884c71b3",
   "metadata": {},
   "source": [
    "## Comparing Houses and Apartments"
   ]
  },
  {
   "cell_type": "markdown",
   "id": "ccc6ef50",
   "metadata": {},
   "source": [
    "### Create grouped boxplot (groups = type, values = price_per_m2)"
   ]
  },
  {
   "cell_type": "code",
   "execution_count": 4,
   "id": "dea1629a",
   "metadata": {},
   "outputs": [
    {
     "data": {
      "image/png": "[encoded data removed]",
      "text/plain": [
       "<Figure size 800x200 with 1 Axes>"
      ]
     },
     "metadata": {},
     "output_type": "display_data"
    }
   ],
   "source": [
    "# Plot boxplot with groups\n",
    "plt.figure(figsize=(8,2))\n",
    "ax = sns.boxplot(x=\"price_per_m2\",\n",
    "                 y=\"type\",\n",
    "                 palette=['b', 'g'],\n",
    "                 data=df,\n",
    "                 orient='h',\n",
    "                 showfliers=False)\n",
    "plt.grid()\n",
    "plt.show()"
   ]
  },
  {
   "cell_type": "markdown",
   "id": "f6898880",
   "metadata": {},
   "source": [
    "### Unpaired two-sample t-test"
   ]
  },
  {
   "cell_type": "code",
   "execution_count": 10,
   "id": "4781abe3",
   "metadata": {},
   "outputs": [
    {
     "name": "stdout",
     "output_type": "stream",
     "text": [
      "Test-statistic: 13.64011 p-value 0.0\n"
     ]
    }
   ],
   "source": [
    "# Create subsets (groups)\n",
    "apartment = df.loc[df['type'] == 'Wohnung']\n",
    "house = df.loc[df['type'] == 'Haus']\n",
    "\n",
    "# Create t-test\n",
    "result = stats.ttest_ind(apartment['price_per_m2'], house['price_per_m2'])\n",
    "\n",
    "# Print result\n",
    "print('Test-statistic:', result[0].round(5), 'p-value',  result[1].round(5))"
   ]
  },
  {
   "cell_type": "markdown",
   "id": "19f4e4ff",
   "metadata": {},
   "source": [
    "### Interpretation of result"
   ]
  },
  {
   "cell_type": "markdown",
   "id": "67d3a198",
   "metadata": {},
   "source": [
    "<p> Because the p-value is lower than 0.05, the null hypothesis can be rejected, i.e. there is evidence that the prices per m2 of houses and apartments differ. Note that, from the t-test above, it is not clear which type has higher or lower prices. It only shows that there is a statistically significant (5% significance level) difference between prices.</p>"
   ]
  },
  {
   "cell_type": "markdown",
   "id": "e5706b69",
   "metadata": {},
   "source": [
    "### Create grouped boxplot (groups = luxurious, values = price_per_m2)"
   ]
  },
  {
   "cell_type": "code",
   "execution_count": 6,
   "id": "ead958d8",
   "metadata": {},
   "outputs": [
    {
     "data": {
      "image/png": "[encoded data removed]",
      "text/plain": [
       "<Figure size 800x200 with 1 Axes>"
      ]
     },
     "metadata": {},
     "output_type": "display_data"
    }
   ],
   "source": [
    "# Plot boxplot with groups\n",
    "plt.figure(figsize=(8,2))\n",
    "ax = sns.boxplot(x=\"price_per_m2\",\n",
    "                 y=\"central\",\n",
    "                 palette=['b', 'g'],\n",
    "                 data=df,\n",
    "                 orient='h',\n",
    "                 showfliers=False)\n",
    "plt.grid()\n",
    "plt.show()"
   ]
  },
  {
   "cell_type": "markdown",
   "id": "22ca2122",
   "metadata": {},
   "source": [
    "### Unpaired two-sample t-test"
   ]
  },
  {
   "cell_type": "code",
   "execution_count": 7,
   "id": "d1cead15",
   "metadata": {},
   "outputs": [
    {
     "name": "stdout",
     "output_type": "stream",
     "text": [
      "Test-statistic: -0.03401 p-value 0.97287\n"
     ]
    }
   ],
   "source": [
    "# Create subsets (groups)\n",
    "not_central = df.loc[df['central'] == 0]\n",
    "central = df.loc[df['central'] == 1]\n",
    "\n",
    "# Create t-test\n",
    "result = stats.ttest_ind(not_central['price_per_m2'], \n",
    "                         central['price_per_m2'])\n",
    "\n",
    "# Print result\n",
    "print('Test-statistic:', result[0].round(5), 'p-value',  result[1].round(5))"
   ]
  },
  {
   "cell_type": "markdown",
   "id": "f4876e12",
   "metadata": {},
   "source": [
    "### Interpretation of result"
   ]
  },
  {
   "cell_type": "markdown",
   "id": "9ab5da97",
   "metadata": {},
   "source": [
    "<p> Because the p-value is higher than 0.05, the null hypothesis cannot be rejected, i.e. there is evidence that the prices per m2 do not differ between houses and apartments in central locations and those that are not. Note that, from the t-test above, it is not clear which group of listings show lower or higher prices. It only shows that there is a statistically significant (5% significance level) difference between prices.</p>"
   ]
  }
 ],
 "metadata": {
  "kernelspec": {
   "display_name": "Python 3 (ipykernel)",
   "language": "python",
   "name": "python3"
  },
  "language_info": {
   "codemirror_mode": {
    "name": "ipython",
    "version": 3
   },
   "file_extension": ".py",
   "mimetype": "text/x-python",
   "name": "python",
   "nbconvert_exporter": "python",
   "pygments_lexer": "ipython3",
   "version": "3.9.13"
  },
  "vscode": {
   "interpreter": {
    "hash": "31f2aee4e71d21fbe5cf8b01ff0e069b9275f58929596ceb00d14d90e3e16cd6"
   }
  }
 },
 "nbformat": 4,
 "nbformat_minor": 5
}
