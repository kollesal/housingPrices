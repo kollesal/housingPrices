{
 "cells": [
  {
   "cell_type": "markdown",
   "id": "7e6d1072",
   "metadata": {},
   "source": [
    "# WEB API"
   ]
  },
  {
   "cell_type": "markdown",
   "id": "607822a3",
   "metadata": {},
   "source": [
    "## Searching for all Train- and Busstations"
   ]
  },
  {
   "cell_type": "code",
   "execution_count": 1,
   "id": "804866d3",
   "metadata": {},
   "outputs": [],
   "source": [
    "from pandas import json_normalize\n",
    "import requests\n",
    "import json\n",
    "import matplotlib.pyplot as plt"
   ]
  },
  {
   "cell_type": "code",
   "execution_count": null,
   "id": "fe09d40b",
   "metadata": {},
   "outputs": [],
   "source": [
    "# Overpass API URL\n",
    "url = 'http://overpass-api.de/api/interpreter'\n",
    "\n",
    "# Query\n",
    "query = f\"\"\"\n",
    "        [out:json];\n",
    "        area[\"ISO3166-1\"=\"CH\"][admin_level=2];\n",
    "        node [\"public_transport\"=\"stop_position\"](area);\n",
    "        out;\"\"\"\n",
    "\n",
    "# Web API request\n",
    "r = requests.get(url, params={'data': query})\n",
    "data = r.json()['elements']\n",
    "\n",
    "# Save data to file\n",
    "with open('stations.json', 'w') as json_file:\n",
    "    json.dump(data, json_file)\n",
    "\n",
    "# Store data in data frame\n",
    "df_stations = json_normalize(data)\n",
    "df_stations.head(10)"
   ]
  },
  {
   "cell_type": "markdown",
   "id": "5ff4b97d",
   "metadata": {},
   "source": [
    "## Plot Trainstations on map"
   ]
  },
  {
   "cell_type": "code",
   "execution_count": 3,
   "id": "aa38e299",
   "metadata": {},
   "outputs": [
    {
     "data": {
      "text/plain": [
       "'\\nimport folium\\nimport pandas as pd\\n\\n# Subset of railway Stations\\nlocations = df_stations[[\"lat\", \"lon\", \"tags.operator\", \"tags.name\", \"tags.bus\"]]\\nprint(locations.head(5))\\n\\n# Create map\\nmap = folium.Map(location=[locations.lat.mean(), \\n                           locations.lon.mean()], \\n                 zoom_start=8, \\n                 control_scale=True)\\n\\n# Add maker symbols\\nfor index, location_info in locations.iterrows():\\n    folium.Marker([location_info[\"lat\"], \\n                   location_info[\"lon\"]], \\n                  popup=location_info[\"tags.operator\"]).add_to(map)\\n\\n# Plot map\\nmap\\n'"
      ]
     },
     "execution_count": 3,
     "metadata": {},
     "output_type": "execute_result"
    }
   ],
   "source": [
    "\"\"\"\n",
    "import folium\n",
    "import pandas as pd\n",
    "\n",
    "# Subset of railway Stations\n",
    "locations = df_stations[[\"lat\", \"lon\", \"tags.operator\", \"tags.name\", \"tags.bus\"]]\n",
    "print(locations.head(5))\n",
    "\n",
    "# Create map\n",
    "map = folium.Map(location=[locations.lat.mean(), \n",
    "                           locations.lon.mean()], \n",
    "                 zoom_start=8, \n",
    "                 control_scale=True)\n",
    "\n",
    "# Add maker symbols\n",
    "for index, location_info in locations.iterrows():\n",
    "    folium.Marker([location_info[\"lat\"], \n",
    "                   location_info[\"lon\"]], \n",
    "                  popup=location_info[\"tags.operator\"]).add_to(map)\n",
    "\n",
    "# Plot map\n",
    "map\n",
    "\"\"\""
   ]
  },
  {
   "cell_type": "code",
   "execution_count": 4,
   "id": "53f702ad",
   "metadata": {},
   "outputs": [
    {
     "data": {
      "text/plain": [
       "'\\n# Subset of railwaystations by SBB\\nlocations = df_stations[[\"lat\", \"lon\", \"tags.operator\", \"tags.name\", \"tags.bus\"]].loc[df_stations[\"tags.operator\"] == \\'SBB\\']\\nprint(locations.head(5))\\n\\n# Create map\\nmap = folium.Map(location=[locations.lat.mean(), \\n                           locations.lon.mean()], \\n                 zoom_start=8, \\n                 control_scale=True)\\n\\n# Add maker symbols\\nfor index, location_info in locations.iterrows():\\n    folium.Marker([location_info[\"lat\"], \\n                   location_info[\"lon\"]], \\n                  popup=location_info[\"tags.operator\"]).add_to(map)\\n\\n# Plot map\\nmap\\n'"
      ]
     },
     "execution_count": 4,
     "metadata": {},
     "output_type": "execute_result"
    }
   ],
   "source": [
    "\"\"\"\n",
    "# Subset of railwaystations by SBB\n",
    "locations = df_stations[[\"lat\", \"lon\", \"tags.operator\", \"tags.name\", \"tags.bus\"]].loc[df_stations[\"tags.operator\"] == 'SBB']\n",
    "print(locations.head(5))\n",
    "\n",
    "# Create map\n",
    "map = folium.Map(location=[locations.lat.mean(), \n",
    "                           locations.lon.mean()], \n",
    "                 zoom_start=8, \n",
    "                 control_scale=True)\n",
    "\n",
    "# Add maker symbols\n",
    "for index, location_info in locations.iterrows():\n",
    "    folium.Marker([location_info[\"lat\"], \n",
    "                   location_info[\"lon\"]], \n",
    "                  popup=location_info[\"tags.operator\"]).add_to(map)\n",
    "\n",
    "# Plot map\n",
    "map\n",
    "\"\"\""
   ]
  },
  {
   "cell_type": "code",
   "execution_count": 5,
   "id": "9ef8c291",
   "metadata": {},
   "outputs": [],
   "source": [
    "df_stations.to_csv('stations_data_geocoded.csv',\n",
    "                      sep=\",\",\n",
    "                      encoding='utf-8',\n",
    "                      index=False)"
   ]
  },
  {
   "cell_type": "code",
   "execution_count": 6,
   "id": "a9791ef3",
   "metadata": {},
   "outputs": [
    {
     "name": "stdout",
     "output_type": "stream",
     "text": [
      "<mysql.connector.connection_cext.CMySQLConnection object at 0x0000021650AAE7F0>\n",
      "('eatily',)\n",
      "('exercise',)\n",
      "('infections',)\n",
      "('information_schema',)\n",
      "('mysql',)\n",
      "('performance_schema',)\n",
      "('projectda_database',)\n",
      "('projectthree',)\n",
      "('projectx',)\n"
     ]
    }
   ],
   "source": [
    "import mysql.connector\n",
    "from pandas.io import sql\n",
    "from sqlalchemy import create_engine\n",
    "import pymysql\n",
    "\n",
    "conn = mysql.connector.connect(\n",
    "  host=\"localhost\",\n",
    "  user=\"root\",\n",
    "  password=\"nh1hgE6L$1\",\n",
    "  database=\"projectDA_database\")\n",
    "\n",
    "print(conn)\n",
    "\n",
    "# Create data base\n",
    "cursor = conn.cursor()\n",
    "cursor.execute(\"CREATE DATABASE IF NOT EXISTS projectDA_database\")\n",
    "\n",
    "# Show data bases in my sql\n",
    "cursor.execute(\"SHOW DATABASES\")\n",
    "\n",
    "for x in cursor:\n",
    "  print(x)\n",
    "\n",
    "  # Create SQL-table Steuerfuss in the database\n",
    "cursor.execute('''CREATE TABLE IF NOT EXISTS stations_table (id INT AUTO_INCREMENT PRIMARY KEY,\n",
    "                                                               lat DECIMAL(12,8),\n",
    "                                                               lon DECIMAL(12,8),\n",
    "                                                               bus VARCHAR(50),\n",
    "                                                               operator VARCHAR(50),\n",
    "                                                               name VARCHAR(50))''')\n",
    "# Confirm changes to the table\n",
    "conn.commit()"
   ]
  },
  {
   "cell_type": "code",
   "execution_count": 7,
   "id": "933f0672",
   "metadata": {},
   "outputs": [
    {
     "ename": "NameError",
     "evalue": "name 'pd' is not defined",
     "output_type": "error",
     "traceback": [
      "\u001b[1;31m---------------------------------------------------------------------------\u001b[0m",
      "\u001b[1;31mNameError\u001b[0m                                 Traceback (most recent call last)",
      "Cell \u001b[1;32mIn [7], line 1\u001b[0m\n\u001b[1;32m----> 1\u001b[0m df_for_database_stations \u001b[38;5;241m=\u001b[39m \u001b[43mpd\u001b[49m\u001b[38;5;241m.\u001b[39mread_csv(\u001b[38;5;124m'\u001b[39m\u001b[38;5;124mstations_data_geocoded.csv\u001b[39m\u001b[38;5;124m'\u001b[39m, sep\u001b[38;5;241m=\u001b[39m\u001b[38;5;124m'\u001b[39m\u001b[38;5;124m,\u001b[39m\u001b[38;5;124m'\u001b[39m, encoding\u001b[38;5;241m=\u001b[39m\u001b[38;5;124m'\u001b[39m\u001b[38;5;124mutf-8\u001b[39m\u001b[38;5;124m'\u001b[39m)[[\u001b[38;5;124m'\u001b[39m\u001b[38;5;124mlat\u001b[39m\u001b[38;5;124m'\u001b[39m, \u001b[38;5;124m'\u001b[39m\u001b[38;5;124mlon\u001b[39m\u001b[38;5;124m'\u001b[39m, \u001b[38;5;124m'\u001b[39m\u001b[38;5;124mtags.bus\u001b[39m\u001b[38;5;124m'\u001b[39m, \u001b[38;5;124m'\u001b[39m\u001b[38;5;124mtags.operator\u001b[39m\u001b[38;5;124m'\u001b[39m, \u001b[38;5;124m'\u001b[39m\u001b[38;5;124mtags.name\u001b[39m\u001b[38;5;124m'\u001b[39m]]\n\u001b[0;32m      2\u001b[0m \u001b[38;5;28mprint\u001b[39m(df_for_database_stations\u001b[38;5;241m.\u001b[39mshape)\n\u001b[0;32m      3\u001b[0m df_for_database_stations\u001b[38;5;241m.\u001b[39mhead(\u001b[38;5;241m5\u001b[39m)\n",
      "\u001b[1;31mNameError\u001b[0m: name 'pd' is not defined"
     ]
    }
   ],
   "source": [
    "df_for_database_stations = pd.read_csv('stations_data_geocoded.csv', sep=',', encoding='utf-8')[['lat', 'lon', 'tags.bus', 'tags.operator', 'tags.name']]\n",
    "print(df_for_database_stations.shape)\n",
    "df_for_database_stations.head(5)"
   ]
  },
  {
   "cell_type": "code",
   "execution_count": null,
   "id": "746b39d5",
   "metadata": {},
   "outputs": [],
   "source": [
    "db_data = 'mysql+mysqldb://' + 'root' + ':' + 'nh1hgE6L$1' + '@' + 'localhost' + ':3306/' \\\n",
    "       + 'projectda_database' + '?charset=utf8mb4'\n",
    "engine = create_engine(db_data)\n",
    "\n",
    "# Connect to the database\n",
    "connection = pymysql.connect(host='localhost',\n",
    "                         user='root',\n",
    "                         password='nh1hgE6L$1',\n",
    "                         db='projectda_database')   \n",
    "\n",
    "# create cursor\n",
    "cursor=connection.cursor()\n",
    "# Execute the to_sql for writting DF into SQL\n",
    "df_for_database_stations[['lat', 'lon', 'tags.bus', 'tags.operator', 'tags.name']].to_sql('stations_table', engine, if_exists='replace', index=False)    \n",
    "\n",
    "# Execute query\n",
    "sql = \"SELECT * FROM `stations_table`\"\n",
    "cursor.execute(sql)\n",
    "\n",
    "# Fetch all the records\n",
    "result = cursor.fetchall()\n",
    "for i in result:\n",
    "    print(i)\n",
    "\n",
    "engine.dispose()"
   ]
  },
  {
   "cell_type": "code",
   "execution_count": null,
   "id": "c57f76e9",
   "metadata": {},
   "outputs": [],
   "source": [
    "df_for_database_stations.lat.plot.hist(grid=True, \n",
    "                   bins=20, \n",
    "                   rwidth=0.9,\n",
    "                   color='#607c8e')\n",
    "plt.title('Gemeindesteuerfuss')\n",
    "plt.xlabel('Gemeindesteuerfuss')\n",
    "plt.ylabel('Frequency')\n",
    "plt.grid(axis='y', alpha=0.75)\n",
    "\n",
    "\n",
    "connection.close()"
   ]
  }
 ],
 "metadata": {
  "kernelspec": {
   "display_name": "Python 3 (ipykernel)",
   "language": "python",
   "name": "python3"
  },
  "language_info": {
   "codemirror_mode": {
    "name": "ipython",
    "version": 3
   },
   "file_extension": ".py",
   "mimetype": "text/x-python",
   "name": "python",
   "nbconvert_exporter": "python",
   "pygments_lexer": "ipython3",
   "version": "3.9.13"
  },
  "vscode": {
   "interpreter": {
    "hash": "5e6c5b44460e76bf9fdc08682cbeb2a7501bec82b9e9e7d2ddadc60d8120d671"
   }
  }
 },
 "nbformat": 4,
 "nbformat_minor": 5
}
