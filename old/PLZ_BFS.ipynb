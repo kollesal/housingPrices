{
 "cells": [
  {
   "attachments": {},
   "cell_type": "markdown",
   "id": "7e6d1072",
   "metadata": {},
   "source": [
    "# Title"
   ]
  },
  {
   "attachments": {},
   "cell_type": "markdown",
   "id": "607822a3",
   "metadata": {},
   "source": [
    "## Subtitle"
   ]
  },
  {
   "cell_type": "code",
   "execution_count": 12,
   "id": "7d866128",
   "metadata": {},
   "outputs": [],
   "source": [
    "# Libraries\n",
    "import pandas as pd\n",
    "import numpy as np\n",
    "import seaborn as sns\n",
    "import matplotlib.pyplot as plt\n",
    "import pylab as py\n",
    "import sqlite3\n",
    "import fnmatch\n",
    "import os\n",
    "\n",
    "# seaborn graphics settings\n",
    "sns.set(color_codes=True)\n",
    "\n",
    "# Ignore warnings\n",
    "import warnings\n",
    "warnings.filterwarnings(\"ignore\")"
   ]
  },
  {
   "cell_type": "code",
   "execution_count": null,
   "id": "921cf0ab",
   "metadata": {},
   "outputs": [],
   "source": [
    "#Print current working directory\n",
    "print(os.getcwd())\n",
    "\n",
    "# Create data base\n",
    "conn = sqlite3.connect('plz_bfs.db') \n",
    "cursor = conn.cursor()\n",
    "\n",
    "# Show dbs in the directory\n",
    "flist = fnmatch.filter(os.listdir('.'), '*.db')\n",
    "for i in flist:\n",
    "    print(i)"
   ]
  },
  {
   "cell_type": "code",
   "execution_count": null,
   "id": "9bde9507",
   "metadata": {},
   "outputs": [],
   "source": [
    "cursor.execute('''CREATE TABLE IF NOT EXISTS plz_table (PLZ INT(4),\n",
    "                                                                Ortschaftsname VARCHAR(50),\n",
    "                                                                Zusatzziffer INT(8),\n",
    "                                                                Gemeindename VARCHAR(5),\n",
    "                                                                BFS-Nr INT(8),\n",
    "                                                                Kantonskürzel VARCHAR(50),\n",
    "                                                                Sprache VARCHAR(50)''')\n",
    "# Confirm changes to the table\n",
    "conn.commit()"
   ]
  },
  {
   "cell_type": "code",
   "execution_count": 13,
   "id": "fe09d40b",
   "metadata": {},
   "outputs": [
    {
     "data": {
      "text/html": [
       "<div>\n",
       "<style scoped>\n",
       "    .dataframe tbody tr th:only-of-type {\n",
       "        vertical-align: middle;\n",
       "    }\n",
       "\n",
       "    .dataframe tbody tr th {\n",
       "        vertical-align: top;\n",
       "    }\n",
       "\n",
       "    .dataframe thead th {\n",
       "        text-align: right;\n",
       "    }\n",
       "</style>\n",
       "<table border=\"1\" class=\"dataframe\">\n",
       "  <thead>\n",
       "    <tr style=\"text-align: right;\">\n",
       "      <th></th>\n",
       "      <th>Ortschaftsname</th>\n",
       "      <th>PLZ</th>\n",
       "      <th>Zusatzziffer</th>\n",
       "      <th>Gemeindename</th>\n",
       "      <th>BFS-Nr</th>\n",
       "      <th>Kantonskürzel</th>\n",
       "      <th>Sprache</th>\n",
       "    </tr>\n",
       "  </thead>\n",
       "  <tbody>\n",
       "    <tr>\n",
       "      <th>0</th>\n",
       "      <td>Aeugst am Albis</td>\n",
       "      <td>8914</td>\n",
       "      <td>0</td>\n",
       "      <td>Aeugst am Albis</td>\n",
       "      <td>1</td>\n",
       "      <td>ZH</td>\n",
       "      <td>de</td>\n",
       "    </tr>\n",
       "    <tr>\n",
       "      <th>1</th>\n",
       "      <td>Aeugstertal</td>\n",
       "      <td>8914</td>\n",
       "      <td>2</td>\n",
       "      <td>Aeugst am Albis</td>\n",
       "      <td>1</td>\n",
       "      <td>ZH</td>\n",
       "      <td>de</td>\n",
       "    </tr>\n",
       "    <tr>\n",
       "      <th>2</th>\n",
       "      <td>Zwillikon</td>\n",
       "      <td>8909</td>\n",
       "      <td>0</td>\n",
       "      <td>Affoltern am Albis</td>\n",
       "      <td>2</td>\n",
       "      <td>ZH</td>\n",
       "      <td>de</td>\n",
       "    </tr>\n",
       "    <tr>\n",
       "      <th>3</th>\n",
       "      <td>Affoltern am Albis</td>\n",
       "      <td>8910</td>\n",
       "      <td>0</td>\n",
       "      <td>Affoltern am Albis</td>\n",
       "      <td>2</td>\n",
       "      <td>ZH</td>\n",
       "      <td>de</td>\n",
       "    </tr>\n",
       "    <tr>\n",
       "      <th>4</th>\n",
       "      <td>Bonstetten</td>\n",
       "      <td>8906</td>\n",
       "      <td>0</td>\n",
       "      <td>Bonstetten</td>\n",
       "      <td>3</td>\n",
       "      <td>ZH</td>\n",
       "      <td>de</td>\n",
       "    </tr>\n",
       "  </tbody>\n",
       "</table>\n",
       "</div>"
      ],
      "text/plain": [
       "       Ortschaftsname   PLZ  Zusatzziffer        Gemeindename  BFS-Nr  \\\n",
       "0     Aeugst am Albis  8914             0     Aeugst am Albis       1   \n",
       "1         Aeugstertal  8914             2     Aeugst am Albis       1   \n",
       "2           Zwillikon  8909             0  Affoltern am Albis       2   \n",
       "3  Affoltern am Albis  8910             0  Affoltern am Albis       2   \n",
       "4          Bonstetten  8906             0          Bonstetten       3   \n",
       "\n",
       "  Kantonskürzel Sprache  \n",
       "0            ZH      de  \n",
       "1            ZH      de  \n",
       "2            ZH      de  \n",
       "3            ZH      de  \n",
       "4            ZH      de  "
      ]
     },
     "execution_count": 13,
     "metadata": {},
     "output_type": "execute_result"
    }
   ],
   "source": [
    "# Read and select variables\n",
    "df_orig = pd.read_csv(\"PLZ_BFS.csv\", sep=\";\")[['Ortschaftsname',\n",
    "                                                 'PLZ',\n",
    "                                                 'Zusatzziffer',\n",
    "                                                 'Gemeindename',\n",
    "                                                 'BFS-Nr', \n",
    "                                                 'Kantonskürzel',\n",
    "                                                 'Sprache']]\n",
    "\n",
    "df_orig.head(5)"
   ]
  }
 ],
 "metadata": {
  "kernelspec": {
   "display_name": "Python 3",
   "language": "python",
   "name": "python3"
  },
  "language_info": {
   "codemirror_mode": {
    "name": "ipython",
    "version": 3
   },
   "file_extension": ".py",
   "mimetype": "text/x-python",
   "name": "python",
   "nbconvert_exporter": "python",
   "pygments_lexer": "ipython3",
   "version": "3.9.6"
  },
  "vscode": {
   "interpreter": {
    "hash": "31f2aee4e71d21fbe5cf8b01ff0e069b9275f58929596ceb00d14d90e3e16cd6"
   }
  }
 },
 "nbformat": 4,
 "nbformat_minor": 5
}
