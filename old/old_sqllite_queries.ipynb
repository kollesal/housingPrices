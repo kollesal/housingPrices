{
 "cells": [
  {
   "cell_type": "code",
   "execution_count": null,
   "metadata": {},
   "outputs": [],
   "source": [
    "import sqlite3\n",
    "import fnmatch\n",
    "import os\n",
    "\n",
    "# Get current working directory\n",
    "print(os.getcwd())\n",
    "\n",
    "# Create data base\n",
    "conn = sqlite3.connect('projectDA_database.db')\n",
    "cursor = conn.cursor()\n",
    "\n",
    "# Show dbs in directory\n",
    "flist = fnmatch.filter(os.listdir('.'), '*.db')\n",
    "for i in flist:\n",
    "    print(i)\n",
    "\n",
    "# Create SQL-table Steuerfuss in the database\n",
    "cursor.execute('''CREATE TABLE IF NOT EXISTS stations_table (lat DECIMAL(12,8),\n",
    "                                                               lon DECIMAL(12,8),\n",
    "                                                               bus VARCHAR(50),\n",
    "                                                               operator VARCHAR(50),\n",
    "                                                               name VARCHAR(50))''')\n",
    "# Confirm changes to the table\n",
    "conn.commit()"
   ]
  },
  {
   "cell_type": "code",
   "execution_count": null,
   "metadata": {},
   "outputs": [],
   "source": [
    "## Create Database and Table"
   ]
  },
  {
   "cell_type": "code",
   "execution_count": null,
   "metadata": {},
   "outputs": [],
   "source": [
    "# Get current working directory\n",
    "print(os.getcwd())\n",
    "\n",
    "# Create data base\n",
    "conn = sqlite3.connect('projectDA_database.db')\n",
    "cursor = conn.cursor()\n",
    "\n",
    "# Show dbs in directory\n",
    "flist = fnmatch.filter(os.listdir('.'), '*.db')\n",
    "for i in flist:\n",
    "    print(i)\n",
    "\n",
    "# Create SQL-table Steuerfuss in the database\n",
    "cursor.execute('''CREATE TABLE IF NOT EXISTS steuerfuss_table (Kanton VARCHAR(50),\n",
    "                                                               BfSId INT(20),\n",
    "                                                               Gemeinde VARCHAR(50),\n",
    "                                                               Kantonssteuerfuss DECIMAL(5,2),\n",
    "                                                               Gemeindesteuerfuss DECIMAL(5,2))''')\n",
    "# Confirm changes to the table\n",
    "conn.commit()\n",
    "\n",
    "# Create SQL-table BFS and Gemeinde in the database\n",
    "cursor.execute('''CREATE TABLE IF NOT EXISTS bfs_gemeinde_table (Ortschaftsname VARCHAR(50),\n",
    "                                                               PLZ INT(20),\n",
    "                                                               Zusatzziffer INT(20),\n",
    "                                                               Gemeindename VARCHAR(50),\n",
    "                                                               BfS_Id INT(20),\n",
    "                                                               Kantonskürzel VARCHAR(50))''')\n",
    "# Confirm changes to the table\n",
    "conn.commit()"
   ]
  },
  {
   "cell_type": "code",
   "execution_count": null,
   "metadata": {},
   "outputs": [],
   "source": []
  },
  {
   "cell_type": "code",
   "execution_count": null,
   "metadata": {},
   "outputs": [],
   "source": []
  }
 ],
 "metadata": {
  "language_info": {
   "name": "python"
  },
  "orig_nbformat": 4
 },
 "nbformat": 4,
 "nbformat_minor": 2
}
